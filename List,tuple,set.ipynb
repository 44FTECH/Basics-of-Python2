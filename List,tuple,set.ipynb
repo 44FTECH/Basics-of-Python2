{
 "cells": [
  {
   "cell_type": "code",
   "execution_count": 1,
   "id": "a91bae26-7e2e-4fa6-822f-6e802cb951e5",
   "metadata": {},
   "outputs": [],
   "source": [
    "l=[1425,56.321,'swapnil',True,85,\"vijay\",False,\"shubhangi\"]"
   ]
  },
  {
   "cell_type": "code",
   "execution_count": 2,
   "id": "12c255d4-4063-4c9a-9054-9d2a7ca97961",
   "metadata": {},
   "outputs": [
    {
     "data": {
      "text/plain": [
       "[1425, 56.321, 'swapnil', True, 85, 'vijay', False, 'shubhangi']"
      ]
     },
     "execution_count": 2,
     "metadata": {},
     "output_type": "execute_result"
    }
   ],
   "source": [
    "l"
   ]
  },
  {
   "cell_type": "code",
   "execution_count": 3,
   "id": "8f549e86-bd5d-44a6-b997-77cf0e6f05f3",
   "metadata": {},
   "outputs": [
    {
     "data": {
      "text/plain": [
       "list"
      ]
     },
     "execution_count": 3,
     "metadata": {},
     "output_type": "execute_result"
    }
   ],
   "source": [
    "type(l)"
   ]
  },
  {
   "cell_type": "code",
   "execution_count": 4,
   "id": "6609880f-abb4-4c9a-84ea-1c817f362184",
   "metadata": {},
   "outputs": [
    {
     "data": {
      "text/plain": [
       "bool"
      ]
     },
     "execution_count": 4,
     "metadata": {},
     "output_type": "execute_result"
    }
   ],
   "source": [
    "type(l[-2])"
   ]
  },
  {
   "cell_type": "code",
   "execution_count": 6,
   "id": "943f8770-9a37-4442-8fb7-195c042a351f",
   "metadata": {},
   "outputs": [
    {
     "data": {
      "text/plain": [
       "1"
      ]
     },
     "execution_count": 6,
     "metadata": {},
     "output_type": "execute_result"
    }
   ],
   "source": [
    "l.count('swapnil')"
   ]
  },
  {
   "cell_type": "code",
   "execution_count": 7,
   "id": "1f8b2363-0fe0-480a-92d6-e53f5e7edf6d",
   "metadata": {},
   "outputs": [],
   "source": [
    "l[-4]=1450"
   ]
  },
  {
   "cell_type": "code",
   "execution_count": 8,
   "id": "b8ea42ac-06d1-42e7-b993-28b332943e7c",
   "metadata": {},
   "outputs": [
    {
     "data": {
      "text/plain": [
       "[1425, 56.321, 'swapnil', True, 1450, 'vijay', False, 'shubhangi']"
      ]
     },
     "execution_count": 8,
     "metadata": {},
     "output_type": "execute_result"
    }
   ],
   "source": [
    "l"
   ]
  },
  {
   "cell_type": "code",
   "execution_count": 9,
   "id": "4ac9a23f-ef8d-4d17-9dc2-78c5b5d64c74",
   "metadata": {},
   "outputs": [
    {
     "data": {
      "text/plain": [
       "[1425, 56.321, 'swapnil', True, 1450, 'vijay']"
      ]
     },
     "execution_count": 9,
     "metadata": {},
     "output_type": "execute_result"
    }
   ],
   "source": [
    "l[0:6:1]"
   ]
  },
  {
   "cell_type": "code",
   "execution_count": 11,
   "id": "55dabe84-8512-405a-b7fb-301707c83bc0",
   "metadata": {},
   "outputs": [
    {
     "data": {
      "text/plain": [
       "'vijay'"
      ]
     },
     "execution_count": 11,
     "metadata": {},
     "output_type": "execute_result"
    }
   ],
   "source": [
    "l[5]"
   ]
  },
  {
   "cell_type": "code",
   "execution_count": 12,
   "id": "6b5578a9-c425-4b36-a2a6-3361240c68e2",
   "metadata": {},
   "outputs": [
    {
     "data": {
      "text/plain": [
       "[1425, 56.321, 'swapnil', True]"
      ]
     },
     "execution_count": 12,
     "metadata": {},
     "output_type": "execute_result"
    }
   ],
   "source": [
    "l[0:4:1]"
   ]
  },
  {
   "cell_type": "code",
   "execution_count": 13,
   "id": "001490b0-5554-4db0-b466-408d3609ce2b",
   "metadata": {},
   "outputs": [
    {
     "data": {
      "text/plain": [
       "'shubhangi'"
      ]
     },
     "execution_count": 13,
     "metadata": {},
     "output_type": "execute_result"
    }
   ],
   "source": [
    "l[-1]"
   ]
  },
  {
   "cell_type": "code",
   "execution_count": 14,
   "id": "aee3d241-61c4-4663-8d34-04b6f9513941",
   "metadata": {},
   "outputs": [
    {
     "data": {
      "text/plain": [
       "['shubhangi', False, 'vijay', 1450, True, 'swapnil', 56.321, 1425]"
      ]
     },
     "execution_count": 14,
     "metadata": {},
     "output_type": "execute_result"
    }
   ],
   "source": [
    "l[::-1]"
   ]
  },
  {
   "cell_type": "code",
   "execution_count": 15,
   "id": "1ca024b0-7d93-469c-9d8d-017d2deebcf6",
   "metadata": {},
   "outputs": [
    {
     "data": {
      "text/plain": [
       "[1425, 'swapnil', 1450, False]"
      ]
     },
     "execution_count": 15,
     "metadata": {},
     "output_type": "execute_result"
    }
   ],
   "source": [
    "l[::2]"
   ]
  },
  {
   "cell_type": "code",
   "execution_count": 17,
   "id": "fa438d58-af4c-44fa-a60a-a553ee9f2309",
   "metadata": {},
   "outputs": [
    {
     "data": {
      "text/plain": [
       "[1425, True, False]"
      ]
     },
     "execution_count": 17,
     "metadata": {},
     "output_type": "execute_result"
    }
   ],
   "source": [
    "l[::3]"
   ]
  },
  {
   "cell_type": "code",
   "execution_count": 18,
   "id": "1b8aa62e-7be2-4f9e-a52b-3787a7211748",
   "metadata": {},
   "outputs": [],
   "source": [
    "s=\"pwskills\""
   ]
  },
  {
   "cell_type": "code",
   "execution_count": 19,
   "id": "10c17d50-91c5-4c92-b343-a63ae26ff6fd",
   "metadata": {},
   "outputs": [
    {
     "ename": "TypeError",
     "evalue": "can only concatenate list (not \"str\") to list",
     "output_type": "error",
     "traceback": [
      "\u001b[0;31m---------------------------------------------------------------------------\u001b[0m",
      "\u001b[0;31mTypeError\u001b[0m                                 Traceback (most recent call last)",
      "Cell \u001b[0;32mIn[19], line 1\u001b[0m\n\u001b[0;32m----> 1\u001b[0m \u001b[43ml\u001b[49m\u001b[38;5;241;43m+\u001b[39;49m\u001b[43ms\u001b[49m\n",
      "\u001b[0;31mTypeError\u001b[0m: can only concatenate list (not \"str\") to list"
     ]
    }
   ],
   "source": [
    "l+s"
   ]
  },
  {
   "cell_type": "code",
   "execution_count": 20,
   "id": "ba2d08b2-491e-4687-9d94-cd28dd4559c0",
   "metadata": {},
   "outputs": [
    {
     "data": {
      "text/plain": [
       "['p', 'w', 's', 'k', 'i', 'l', 'l', 's']"
      ]
     },
     "execution_count": 20,
     "metadata": {},
     "output_type": "execute_result"
    }
   ],
   "source": [
    "list(s)"
   ]
  },
  {
   "cell_type": "code",
   "execution_count": 22,
   "id": "31379de3-2138-44e1-ab7b-f4c603828b1b",
   "metadata": {},
   "outputs": [
    {
     "data": {
      "text/plain": [
       "['p',\n",
       " 'w',\n",
       " 's',\n",
       " 'k',\n",
       " 'i',\n",
       " 'l',\n",
       " 'l',\n",
       " 's',\n",
       " 1425,\n",
       " 56.321,\n",
       " 'swapnil',\n",
       " True,\n",
       " 1450,\n",
       " 'vijay',\n",
       " False,\n",
       " 'shubhangi']"
      ]
     },
     "execution_count": 22,
     "metadata": {},
     "output_type": "execute_result"
    }
   ],
   "source": [
    "list(s)+l"
   ]
  },
  {
   "cell_type": "code",
   "execution_count": 23,
   "id": "708cefc7-ccf1-4d69-afc6-54ba1691e151",
   "metadata": {},
   "outputs": [
    {
     "data": {
      "text/plain": [
       "'swapnil'"
      ]
     },
     "execution_count": 23,
     "metadata": {},
     "output_type": "execute_result"
    }
   ],
   "source": [
    "l[2]"
   ]
  },
  {
   "cell_type": "code",
   "execution_count": 24,
   "id": "f237ba2c-5513-4b25-9dc0-be097768a3b8",
   "metadata": {},
   "outputs": [
    {
     "data": {
      "text/plain": [
       "'swa'"
      ]
     },
     "execution_count": 24,
     "metadata": {},
     "output_type": "execute_result"
    }
   ],
   "source": [
    "l[2][0:3]"
   ]
  },
  {
   "cell_type": "code",
   "execution_count": 25,
   "id": "9d7372f5-ce41-42cb-ae28-09bd0a66ccd6",
   "metadata": {},
   "outputs": [
    {
     "data": {
      "text/plain": [
       "True"
      ]
     },
     "execution_count": 25,
     "metadata": {},
     "output_type": "execute_result"
    }
   ],
   "source": [
    "l[3]"
   ]
  },
  {
   "cell_type": "code",
   "execution_count": 26,
   "id": "17923c87-6c55-4c3d-bb2c-8404d56c03ad",
   "metadata": {},
   "outputs": [
    {
     "ename": "TypeError",
     "evalue": "'bool' object is not subscriptable",
     "output_type": "error",
     "traceback": [
      "\u001b[0;31m---------------------------------------------------------------------------\u001b[0m",
      "\u001b[0;31mTypeError\u001b[0m                                 Traceback (most recent call last)",
      "Cell \u001b[0;32mIn[26], line 1\u001b[0m\n\u001b[0;32m----> 1\u001b[0m \u001b[43ml\u001b[49m\u001b[43m[\u001b[49m\u001b[38;5;241;43m3\u001b[39;49m\u001b[43m]\u001b[49m\u001b[43m[\u001b[49m\u001b[38;5;241;43m0\u001b[39;49m\u001b[43m:\u001b[49m\u001b[38;5;241;43m4\u001b[39;49m\u001b[43m]\u001b[49m\n",
      "\u001b[0;31mTypeError\u001b[0m: 'bool' object is not subscriptable"
     ]
    }
   ],
   "source": [
    "l[3][0:4]"
   ]
  },
  {
   "cell_type": "code",
   "execution_count": 27,
   "id": "229cfe9e-15e7-4201-8cde-85a4c2bb970a",
   "metadata": {},
   "outputs": [
    {
     "data": {
      "text/plain": [
       "'Tru'"
      ]
     },
     "execution_count": 27,
     "metadata": {},
     "output_type": "execute_result"
    }
   ],
   "source": [
    "str(l[3])[0:3]"
   ]
  },
  {
   "cell_type": "code",
   "execution_count": 28,
   "id": "4c53845e-9083-4d46-a8f9-e75e4f19708e",
   "metadata": {},
   "outputs": [
    {
     "ename": "TypeError",
     "evalue": "can only concatenate list (not \"int\") to list",
     "output_type": "error",
     "traceback": [
      "\u001b[0;31m---------------------------------------------------------------------------\u001b[0m",
      "\u001b[0;31mTypeError\u001b[0m                                 Traceback (most recent call last)",
      "Cell \u001b[0;32mIn[28], line 1\u001b[0m\n\u001b[0;32m----> 1\u001b[0m \u001b[43ml\u001b[49m\u001b[38;5;241;43m+\u001b[39;49m\u001b[38;5;241;43m5\u001b[39;49m\n",
      "\u001b[0;31mTypeError\u001b[0m: can only concatenate list (not \"int\") to list"
     ]
    }
   ],
   "source": [
    "l+5"
   ]
  },
  {
   "cell_type": "code",
   "execution_count": 29,
   "id": "85b4c60c-4255-4fdf-b641-d67966ea7150",
   "metadata": {},
   "outputs": [],
   "source": [
    "l1=[36,25.15,458]"
   ]
  },
  {
   "cell_type": "code",
   "execution_count": 30,
   "id": "04f746ca-193e-41d4-b107-0cc99698c01d",
   "metadata": {},
   "outputs": [
    {
     "data": {
      "text/plain": [
       "[1425,\n",
       " 56.321,\n",
       " 'swapnil',\n",
       " True,\n",
       " 1450,\n",
       " 'vijay',\n",
       " False,\n",
       " 'shubhangi',\n",
       " 36,\n",
       " 25.15,\n",
       " 458]"
      ]
     },
     "execution_count": 30,
     "metadata": {},
     "output_type": "execute_result"
    }
   ],
   "source": [
    "l+l1"
   ]
  },
  {
   "cell_type": "code",
   "execution_count": 31,
   "id": "b4a2f8ce-ded7-42f2-83cd-9c7f19f24c3d",
   "metadata": {},
   "outputs": [
    {
     "data": {
      "text/plain": [
       "[36,\n",
       " 25.15,\n",
       " 458,\n",
       " 36,\n",
       " 25.15,\n",
       " 458,\n",
       " 36,\n",
       " 25.15,\n",
       " 458,\n",
       " 36,\n",
       " 25.15,\n",
       " 458,\n",
       " 36,\n",
       " 25.15,\n",
       " 458]"
      ]
     },
     "execution_count": 31,
     "metadata": {},
     "output_type": "execute_result"
    }
   ],
   "source": [
    "l1*5"
   ]
  },
  {
   "cell_type": "code",
   "execution_count": 32,
   "id": "6299c553-4ca3-4497-ae2f-a461cc22761c",
   "metadata": {},
   "outputs": [
    {
     "data": {
      "text/plain": [
       "[1425, 56.321, 'swapnil', True, 1450, 'vijay', False, 'shubhangi']"
      ]
     },
     "execution_count": 32,
     "metadata": {},
     "output_type": "execute_result"
    }
   ],
   "source": [
    "l"
   ]
  },
  {
   "cell_type": "code",
   "execution_count": 37,
   "id": "27f8f5c7-7874-4cc9-a117-ef37c481f1ee",
   "metadata": {},
   "outputs": [
    {
     "data": {
      "text/plain": [
       "8"
      ]
     },
     "execution_count": 37,
     "metadata": {},
     "output_type": "execute_result"
    }
   ],
   "source": [
    "len(l)"
   ]
  },
  {
   "cell_type": "code",
   "execution_count": 40,
   "id": "ac11b8fb-3849-4adb-95c4-3778f2479b5e",
   "metadata": {},
   "outputs": [
    {
     "data": {
      "text/plain": [
       "[1425, 56.321, 'swapnil', True, 1450, 'vijay', False, 'shubhangi']"
      ]
     },
     "execution_count": 40,
     "metadata": {},
     "output_type": "execute_result"
    }
   ],
   "source": [
    "l"
   ]
  },
  {
   "cell_type": "code",
   "execution_count": 43,
   "id": "8e2911e7-539e-4e46-85e3-6976018bf681",
   "metadata": {},
   "outputs": [],
   "source": [
    "l.append(5)"
   ]
  },
  {
   "cell_type": "code",
   "execution_count": 1,
   "id": "a160ea18-b470-4598-befb-30fbe9cce43f",
   "metadata": {},
   "outputs": [],
   "source": [
    "l=[1452,586,'swapnil',5836.26,True,\"vijay\",False,\"shibhangi\"]"
   ]
  },
  {
   "cell_type": "code",
   "execution_count": 2,
   "id": "b2c08791-ab0f-48c1-9d15-96f497b86829",
   "metadata": {},
   "outputs": [
    {
     "data": {
      "text/plain": [
       "[1452, 586, 'swapnil', 5836.26, True, 'vijay', False, 'shibhangi']"
      ]
     },
     "execution_count": 2,
     "metadata": {},
     "output_type": "execute_result"
    }
   ],
   "source": [
    "l"
   ]
  },
  {
   "cell_type": "code",
   "execution_count": 3,
   "id": "018c327c-2909-43d4-9a35-e713f21290e2",
   "metadata": {},
   "outputs": [],
   "source": [
    "l.append(5)"
   ]
  },
  {
   "cell_type": "code",
   "execution_count": 4,
   "id": "a89f4948-9a07-4891-981c-5c9174d8732d",
   "metadata": {},
   "outputs": [
    {
     "data": {
      "text/plain": [
       "[1452, 586, 'swapnil', 5836.26, True, 'vijay', False, 'shibhangi', 5]"
      ]
     },
     "execution_count": 4,
     "metadata": {},
     "output_type": "execute_result"
    }
   ],
   "source": [
    "l"
   ]
  },
  {
   "cell_type": "code",
   "execution_count": 5,
   "id": "c27d9bb1-3589-42bf-bb63-b479326d71ba",
   "metadata": {},
   "outputs": [],
   "source": [
    "s=\"swapnil\""
   ]
  },
  {
   "cell_type": "code",
   "execution_count": 6,
   "id": "6589f6db-cebf-4046-a1d8-71ec5ecf2dd3",
   "metadata": {},
   "outputs": [],
   "source": [
    "l.append(s)"
   ]
  },
  {
   "cell_type": "code",
   "execution_count": 7,
   "id": "686c55e2-9706-4ee7-b9a0-88f16cab0ebe",
   "metadata": {},
   "outputs": [
    {
     "data": {
      "text/plain": [
       "[1452,\n",
       " 586,\n",
       " 'swapnil',\n",
       " 5836.26,\n",
       " True,\n",
       " 'vijay',\n",
       " False,\n",
       " 'shibhangi',\n",
       " 5,\n",
       " 'swapnil']"
      ]
     },
     "execution_count": 7,
     "metadata": {},
     "output_type": "execute_result"
    }
   ],
   "source": [
    "l"
   ]
  },
  {
   "cell_type": "code",
   "execution_count": 9,
   "id": "2dc6d85a-2424-488a-8c02-378b95ecbbad",
   "metadata": {},
   "outputs": [],
   "source": [
    "l1=[14,58,236]"
   ]
  },
  {
   "cell_type": "code",
   "execution_count": 10,
   "id": "4056eca5-0c6f-4855-a358-8868960d71ab",
   "metadata": {},
   "outputs": [],
   "source": [
    "l.append(l1)"
   ]
  },
  {
   "cell_type": "code",
   "execution_count": 11,
   "id": "b1b2a27b-7a2d-42c6-a478-8c371e58cd6d",
   "metadata": {},
   "outputs": [
    {
     "data": {
      "text/plain": [
       "[1452,\n",
       " 586,\n",
       " 'swapnil',\n",
       " 5836.26,\n",
       " True,\n",
       " 'vijay',\n",
       " False,\n",
       " 'shibhangi',\n",
       " 5,\n",
       " 'swapnil',\n",
       " [14, 58, 236]]"
      ]
     },
     "execution_count": 11,
     "metadata": {},
     "output_type": "execute_result"
    }
   ],
   "source": [
    "l"
   ]
  },
  {
   "cell_type": "code",
   "execution_count": 12,
   "id": "0139ac87-8032-414c-8087-bef2eb65d66f",
   "metadata": {},
   "outputs": [
    {
     "data": {
      "text/plain": [
       "[14, 58, 236]"
      ]
     },
     "execution_count": 12,
     "metadata": {},
     "output_type": "execute_result"
    }
   ],
   "source": [
    "l[-1]"
   ]
  },
  {
   "cell_type": "code",
   "execution_count": 13,
   "id": "989a4ba4-b84a-4018-b549-efbcb774c6c3",
   "metadata": {},
   "outputs": [
    {
     "data": {
      "text/plain": [
       "58"
      ]
     },
     "execution_count": 13,
     "metadata": {},
     "output_type": "execute_result"
    }
   ],
   "source": [
    "l[-1][1]"
   ]
  },
  {
   "cell_type": "code",
   "execution_count": 14,
   "id": "38c262e3-9917-4312-9f98-9ad2b3569a0f",
   "metadata": {},
   "outputs": [
    {
     "data": {
      "text/plain": [
       "[1452,\n",
       " 586,\n",
       " 'swapnil',\n",
       " 5836.26,\n",
       " True,\n",
       " 'vijay',\n",
       " False,\n",
       " 'shibhangi',\n",
       " 5,\n",
       " 'swapnil',\n",
       " [14, 58, 236]]"
      ]
     },
     "execution_count": 14,
     "metadata": {},
     "output_type": "execute_result"
    }
   ],
   "source": [
    "l"
   ]
  },
  {
   "cell_type": "code",
   "execution_count": 15,
   "id": "6891ad73-d163-43be-8ea2-dff42baa726f",
   "metadata": {},
   "outputs": [
    {
     "ename": "TypeError",
     "evalue": "'int' object is not iterable",
     "output_type": "error",
     "traceback": [
      "\u001b[0;31m---------------------------------------------------------------------------\u001b[0m",
      "\u001b[0;31mTypeError\u001b[0m                                 Traceback (most recent call last)",
      "Cell \u001b[0;32mIn[15], line 1\u001b[0m\n\u001b[0;32m----> 1\u001b[0m \u001b[43ml\u001b[49m\u001b[38;5;241;43m.\u001b[39;49m\u001b[43mextend\u001b[49m\u001b[43m(\u001b[49m\u001b[38;5;241;43m4\u001b[39;49m\u001b[43m)\u001b[49m\n",
      "\u001b[0;31mTypeError\u001b[0m: 'int' object is not iterable"
     ]
    }
   ],
   "source": [
    "l.extend(4)"
   ]
  },
  {
   "cell_type": "code",
   "execution_count": 18,
   "id": "b8b9c80d-9f68-4f8c-b0af-ab627079738d",
   "metadata": {},
   "outputs": [],
   "source": [
    "l.extend('sudh')"
   ]
  },
  {
   "cell_type": "code",
   "execution_count": 19,
   "id": "d5047362-f32e-4fa1-ad95-b6259f7eb570",
   "metadata": {},
   "outputs": [
    {
     "data": {
      "text/plain": [
       "[1452,\n",
       " 586,\n",
       " 'swapnil',\n",
       " 5836.26,\n",
       " True,\n",
       " 'vijay',\n",
       " False,\n",
       " 'shibhangi',\n",
       " 5,\n",
       " 'swapnil',\n",
       " [14, 58, 236],\n",
       " 's',\n",
       " 'u',\n",
       " 'd',\n",
       " 'h',\n",
       " 's',\n",
       " 'u',\n",
       " 'd',\n",
       " 'h']"
      ]
     },
     "execution_count": 19,
     "metadata": {},
     "output_type": "execute_result"
    }
   ],
   "source": [
    "l"
   ]
  },
  {
   "cell_type": "code",
   "execution_count": 20,
   "id": "a654a23d-cef2-4105-a60d-417e781c8203",
   "metadata": {},
   "outputs": [],
   "source": [
    "l.extend([35,569,14])"
   ]
  },
  {
   "cell_type": "code",
   "execution_count": 21,
   "id": "740a1f79-2b8f-4df6-a289-7d34b7de53c1",
   "metadata": {},
   "outputs": [
    {
     "data": {
      "text/plain": [
       "[1452,\n",
       " 586,\n",
       " 'swapnil',\n",
       " 5836.26,\n",
       " True,\n",
       " 'vijay',\n",
       " False,\n",
       " 'shibhangi',\n",
       " 5,\n",
       " 'swapnil',\n",
       " [14, 58, 236],\n",
       " 's',\n",
       " 'u',\n",
       " 'd',\n",
       " 'h',\n",
       " 's',\n",
       " 'u',\n",
       " 'd',\n",
       " 'h',\n",
       " 35,\n",
       " 569,\n",
       " 14]"
      ]
     },
     "execution_count": 21,
     "metadata": {},
     "output_type": "execute_result"
    }
   ],
   "source": [
    "l"
   ]
  },
  {
   "cell_type": "code",
   "execution_count": 22,
   "id": "fe3089e4-4f14-49aa-a590-b76c42d671d8",
   "metadata": {},
   "outputs": [
    {
     "data": {
      "text/plain": [
       "[14, 58, 236]"
      ]
     },
     "execution_count": 22,
     "metadata": {},
     "output_type": "execute_result"
    }
   ],
   "source": [
    "l1"
   ]
  },
  {
   "cell_type": "code",
   "execution_count": 24,
   "id": "3ba0afbb-52a3-4640-a2d3-207adac90aa1",
   "metadata": {},
   "outputs": [],
   "source": [
    "l1.insert(1,\"swapnil\")"
   ]
  },
  {
   "cell_type": "code",
   "execution_count": 25,
   "id": "04107019-e30d-4df1-9746-49e618a604d8",
   "metadata": {},
   "outputs": [
    {
     "data": {
      "text/plain": [
       "[14, 'swapnil', 58, 236]"
      ]
     },
     "execution_count": 25,
     "metadata": {},
     "output_type": "execute_result"
    }
   ],
   "source": [
    "l1"
   ]
  },
  {
   "cell_type": "code",
   "execution_count": 26,
   "id": "007823c5-d6da-4167-a9cf-17e2fc1b40df",
   "metadata": {},
   "outputs": [],
   "source": [
    "l1.insert(2,'light')"
   ]
  },
  {
   "cell_type": "code",
   "execution_count": 27,
   "id": "9c07fa10-a2ae-45b6-a310-e8f421084177",
   "metadata": {},
   "outputs": [
    {
     "data": {
      "text/plain": [
       "[14, 'swapnil', 'light', 58, 236]"
      ]
     },
     "execution_count": 27,
     "metadata": {},
     "output_type": "execute_result"
    }
   ],
   "source": [
    "l1"
   ]
  },
  {
   "cell_type": "code",
   "execution_count": 29,
   "id": "9c5a07c1-50bf-4f6c-b7cd-fa85b340760a",
   "metadata": {},
   "outputs": [],
   "source": [
    "l1.insert(2,[2,256,84])"
   ]
  },
  {
   "cell_type": "code",
   "execution_count": 30,
   "id": "f352bc98-a4e8-4f46-889b-5e937d10b51e",
   "metadata": {},
   "outputs": [
    {
     "data": {
      "text/plain": [
       "[14, 'swapnil', [2, 256, 84], 'light', 58, 236]"
      ]
     },
     "execution_count": 30,
     "metadata": {},
     "output_type": "execute_result"
    }
   ],
   "source": [
    "l1"
   ]
  },
  {
   "cell_type": "code",
   "execution_count": 31,
   "id": "16d17e05-d17c-4074-b5a9-c77fd80bdfa4",
   "metadata": {},
   "outputs": [],
   "source": [
    "l1.insert(-1,45)"
   ]
  },
  {
   "cell_type": "code",
   "execution_count": 32,
   "id": "fa2bc757-9def-4927-bf49-f365debb471f",
   "metadata": {},
   "outputs": [
    {
     "data": {
      "text/plain": [
       "[14, 'swapnil', [2, 256, 84], 'light', 58, 45, 236]"
      ]
     },
     "execution_count": 32,
     "metadata": {},
     "output_type": "execute_result"
    }
   ],
   "source": [
    "l1"
   ]
  },
  {
   "cell_type": "code",
   "execution_count": 33,
   "id": "a8cf1bd6-2fcb-47b0-85f5-659988569677",
   "metadata": {},
   "outputs": [],
   "source": [
    "l1.insert(0,40)"
   ]
  },
  {
   "cell_type": "code",
   "execution_count": 34,
   "id": "986b7bd5-6627-42bd-a9e0-5ed6b42f09fd",
   "metadata": {},
   "outputs": [
    {
     "data": {
      "text/plain": [
       "[40, 14, 'swapnil', [2, 256, 84], 'light', 58, 45, 236]"
      ]
     },
     "execution_count": 34,
     "metadata": {},
     "output_type": "execute_result"
    }
   ],
   "source": [
    "l1"
   ]
  },
  {
   "cell_type": "code",
   "execution_count": 37,
   "id": "e41d2fe5-90e4-40e9-a31f-7d4a5c1e4587",
   "metadata": {},
   "outputs": [
    {
     "data": {
      "text/plain": [
       "236"
      ]
     },
     "execution_count": 37,
     "metadata": {},
     "output_type": "execute_result"
    }
   ],
   "source": [
    "l1.pop()"
   ]
  },
  {
   "cell_type": "markdown",
   "id": "b23b3102-0ef8-432d-9147-19fa1a315571",
   "metadata": {},
   "source": [
    "# "
   ]
  },
  {
   "cell_type": "code",
   "execution_count": 38,
   "id": "8081efe1-b8d3-4a40-a32b-195e597621dc",
   "metadata": {},
   "outputs": [
    {
     "data": {
      "text/plain": [
       "[40, 14, 'swapnil', [2, 256, 84], 'light', 58, 45]"
      ]
     },
     "execution_count": 38,
     "metadata": {},
     "output_type": "execute_result"
    }
   ],
   "source": [
    "l1"
   ]
  },
  {
   "cell_type": "code",
   "execution_count": 39,
   "id": "7c9e874b-4788-43d4-8d88-ffd092ec8721",
   "metadata": {},
   "outputs": [
    {
     "data": {
      "text/plain": [
       "[2, 256, 84]"
      ]
     },
     "execution_count": 39,
     "metadata": {},
     "output_type": "execute_result"
    }
   ],
   "source": [
    "l1.pop(3)"
   ]
  },
  {
   "cell_type": "code",
   "execution_count": 40,
   "id": "bbdaeb56-b93d-4094-8dbd-0d9fd29389e9",
   "metadata": {},
   "outputs": [
    {
     "data": {
      "text/plain": [
       "[40, 14, 'swapnil', 'light', 58, 45]"
      ]
     },
     "execution_count": 40,
     "metadata": {},
     "output_type": "execute_result"
    }
   ],
   "source": [
    "l1"
   ]
  },
  {
   "cell_type": "code",
   "execution_count": 41,
   "id": "3e38f804-27a7-4fd2-a3df-6733c098fa0b",
   "metadata": {},
   "outputs": [
    {
     "data": {
      "text/plain": [
       "[40, 14, 'swapnil', 'light', 58, 45]"
      ]
     },
     "execution_count": 41,
     "metadata": {},
     "output_type": "execute_result"
    }
   ],
   "source": [
    "l1"
   ]
  },
  {
   "cell_type": "code",
   "execution_count": 43,
   "id": "ce07f8df-45f7-4bcb-8dba-122428953719",
   "metadata": {},
   "outputs": [],
   "source": [
    "l1.remove(14)"
   ]
  },
  {
   "cell_type": "code",
   "execution_count": 44,
   "id": "b75b2664-64ba-437e-8bb6-77c038902fe5",
   "metadata": {},
   "outputs": [
    {
     "data": {
      "text/plain": [
       "[40, 'swapnil', 'light', 58, 45]"
      ]
     },
     "execution_count": 44,
     "metadata": {},
     "output_type": "execute_result"
    }
   ],
   "source": [
    "l1"
   ]
  },
  {
   "cell_type": "code",
   "execution_count": 45,
   "id": "990f68f3-be42-4795-9cc9-8a64d315a62d",
   "metadata": {},
   "outputs": [
    {
     "ename": "ValueError",
     "evalue": "list.remove(x): x not in list",
     "output_type": "error",
     "traceback": [
      "\u001b[0;31m---------------------------------------------------------------------------\u001b[0m",
      "\u001b[0;31mValueError\u001b[0m                                Traceback (most recent call last)",
      "Cell \u001b[0;32mIn[45], line 1\u001b[0m\n\u001b[0;32m----> 1\u001b[0m \u001b[43ml1\u001b[49m\u001b[38;5;241;43m.\u001b[39;49m\u001b[43mremove\u001b[49m\u001b[43m(\u001b[49m\u001b[38;5;241;43m85\u001b[39;49m\u001b[43m)\u001b[49m\n",
      "\u001b[0;31mValueError\u001b[0m: list.remove(x): x not in list"
     ]
    }
   ],
   "source": [
    "l1.remove(85)"
   ]
  },
  {
   "cell_type": "code",
   "execution_count": 46,
   "id": "cdb14fd8-6f65-428e-a4a9-6a79f416a484",
   "metadata": {},
   "outputs": [],
   "source": [
    "l2=[25,25.36,['swapnil',253,569]]"
   ]
  },
  {
   "cell_type": "code",
   "execution_count": 47,
   "id": "9f1befda-02f6-457d-93a6-6b956ec8a561",
   "metadata": {},
   "outputs": [
    {
     "data": {
      "text/plain": [
       "[25, 25.36, ['swapnil', 253, 569]]"
      ]
     },
     "execution_count": 47,
     "metadata": {},
     "output_type": "execute_result"
    }
   ],
   "source": [
    "l2"
   ]
  },
  {
   "cell_type": "code",
   "execution_count": 48,
   "id": "33856aa6-8359-437f-a55c-9c0f8b38adf9",
   "metadata": {},
   "outputs": [
    {
     "data": {
      "text/plain": [
       "['swapnil', 253, 569]"
      ]
     },
     "execution_count": 48,
     "metadata": {},
     "output_type": "execute_result"
    }
   ],
   "source": [
    "l2[2]"
   ]
  },
  {
   "cell_type": "code",
   "execution_count": 49,
   "id": "adfb1163-40ee-4da0-b7e7-c2e0b30c2561",
   "metadata": {},
   "outputs": [],
   "source": [
    "l2[2].remove(253)"
   ]
  },
  {
   "cell_type": "code",
   "execution_count": 50,
   "id": "3438fb36-bfad-407f-8709-ac7e910b57d8",
   "metadata": {},
   "outputs": [
    {
     "data": {
      "text/plain": [
       "[25, 25.36, ['swapnil', 569]]"
      ]
     },
     "execution_count": 50,
     "metadata": {},
     "output_type": "execute_result"
    }
   ],
   "source": [
    "l2"
   ]
  },
  {
   "cell_type": "code",
   "execution_count": 51,
   "id": "f2c82af8-4bee-41bc-a14b-90f3dd3cf1f6",
   "metadata": {},
   "outputs": [
    {
     "data": {
      "text/plain": [
       "[40, 'swapnil', 'light', 58, 45]"
      ]
     },
     "execution_count": 51,
     "metadata": {},
     "output_type": "execute_result"
    }
   ],
   "source": [
    "l1"
   ]
  },
  {
   "cell_type": "code",
   "execution_count": 52,
   "id": "a1cb272e-97aa-49c8-810c-e990490f43f3",
   "metadata": {},
   "outputs": [],
   "source": [
    "l1.reverse()"
   ]
  },
  {
   "cell_type": "code",
   "execution_count": 53,
   "id": "bb80be9f-2b09-43ba-8b65-ea08804789ea",
   "metadata": {},
   "outputs": [
    {
     "data": {
      "text/plain": [
       "[45, 58, 'light', 'swapnil', 40]"
      ]
     },
     "execution_count": 53,
     "metadata": {},
     "output_type": "execute_result"
    }
   ],
   "source": [
    "l1"
   ]
  },
  {
   "cell_type": "code",
   "execution_count": 54,
   "id": "21466ace-1cd5-4652-bbcd-7a5328219019",
   "metadata": {},
   "outputs": [
    {
     "ename": "TypeError",
     "evalue": "'<' not supported between instances of 'str' and 'int'",
     "output_type": "error",
     "traceback": [
      "\u001b[0;31m---------------------------------------------------------------------------\u001b[0m",
      "\u001b[0;31mTypeError\u001b[0m                                 Traceback (most recent call last)",
      "Cell \u001b[0;32mIn[54], line 1\u001b[0m\n\u001b[0;32m----> 1\u001b[0m \u001b[43ml1\u001b[49m\u001b[38;5;241;43m.\u001b[39;49m\u001b[43msort\u001b[49m\u001b[43m(\u001b[49m\u001b[43m)\u001b[49m\n",
      "\u001b[0;31mTypeError\u001b[0m: '<' not supported between instances of 'str' and 'int'"
     ]
    }
   ],
   "source": [
    "l1.sort()"
   ]
  },
  {
   "cell_type": "code",
   "execution_count": 55,
   "id": "008faf5d-44a6-4430-bbf4-48c9c718fd12",
   "metadata": {},
   "outputs": [],
   "source": [
    "l3=[25,26,84,3.624,49]"
   ]
  },
  {
   "cell_type": "code",
   "execution_count": 56,
   "id": "4d6cd653-48d1-4342-a5d8-baefa943daa3",
   "metadata": {},
   "outputs": [
    {
     "data": {
      "text/plain": [
       "[25, 26, 84, 3.624, 49]"
      ]
     },
     "execution_count": 56,
     "metadata": {},
     "output_type": "execute_result"
    }
   ],
   "source": [
    "l3"
   ]
  },
  {
   "cell_type": "code",
   "execution_count": 57,
   "id": "7c00c113-4c5e-48e9-8622-1d145fa6afbe",
   "metadata": {},
   "outputs": [],
   "source": [
    "l3.sort()"
   ]
  },
  {
   "cell_type": "code",
   "execution_count": 58,
   "id": "17a3040e-e1fa-4a79-85c1-33e79fdff3dd",
   "metadata": {},
   "outputs": [
    {
     "data": {
      "text/plain": [
       "[3.624, 25, 26, 49, 84]"
      ]
     },
     "execution_count": 58,
     "metadata": {},
     "output_type": "execute_result"
    }
   ],
   "source": [
    "l3"
   ]
  },
  {
   "cell_type": "code",
   "execution_count": 59,
   "id": "ec7dbf30-8e2f-4fbb-9b9f-ffd5d099b288",
   "metadata": {},
   "outputs": [
    {
     "data": {
      "text/plain": [
       "[45, 58, 'light', 'swapnil', 40]"
      ]
     },
     "execution_count": 59,
     "metadata": {},
     "output_type": "execute_result"
    }
   ],
   "source": [
    "l1"
   ]
  },
  {
   "cell_type": "code",
   "execution_count": 60,
   "id": "c73ba45b-e38d-4b7b-bdcd-d6f55ba7b0fa",
   "metadata": {},
   "outputs": [
    {
     "ename": "TypeError",
     "evalue": "'<' not supported between instances of 'str' and 'int'",
     "output_type": "error",
     "traceback": [
      "\u001b[0;31m---------------------------------------------------------------------------\u001b[0m",
      "\u001b[0;31mTypeError\u001b[0m                                 Traceback (most recent call last)",
      "Cell \u001b[0;32mIn[60], line 1\u001b[0m\n\u001b[0;32m----> 1\u001b[0m \u001b[43ml1\u001b[49m\u001b[38;5;241;43m.\u001b[39;49m\u001b[43msort\u001b[49m\u001b[43m(\u001b[49m\u001b[43m)\u001b[49m\n",
      "\u001b[0;31mTypeError\u001b[0m: '<' not supported between instances of 'str' and 'int'"
     ]
    }
   ],
   "source": [
    "l1.sort()"
   ]
  },
  {
   "cell_type": "code",
   "execution_count": 61,
   "id": "77009b12-6171-4a6a-884b-f185d3d96d8d",
   "metadata": {},
   "outputs": [],
   "source": [
    "l4=['swapnil','vijay',\"shubhangi\"]"
   ]
  },
  {
   "cell_type": "code",
   "execution_count": 62,
   "id": "7aeae0fa-71b7-4c85-9fda-6cc70ec16889",
   "metadata": {},
   "outputs": [
    {
     "data": {
      "text/plain": [
       "['swapnil', 'vijay', 'shubhangi']"
      ]
     },
     "execution_count": 62,
     "metadata": {},
     "output_type": "execute_result"
    }
   ],
   "source": [
    "l4"
   ]
  },
  {
   "cell_type": "code",
   "execution_count": 63,
   "id": "9146d711-f2a9-4392-a664-6102dd93d709",
   "metadata": {},
   "outputs": [],
   "source": [
    "l4.sort()"
   ]
  },
  {
   "cell_type": "code",
   "execution_count": 64,
   "id": "74a1ab28-bde9-4291-a408-6c347b85ba48",
   "metadata": {},
   "outputs": [
    {
     "data": {
      "text/plain": [
       "['shubhangi', 'swapnil', 'vijay']"
      ]
     },
     "execution_count": 64,
     "metadata": {},
     "output_type": "execute_result"
    }
   ],
   "source": [
    "l4"
   ]
  },
  {
   "cell_type": "code",
   "execution_count": 65,
   "id": "45cba968-494f-444b-92a5-c2bc482b565b",
   "metadata": {},
   "outputs": [],
   "source": [
    "l4.sort(reverse=True)"
   ]
  },
  {
   "cell_type": "code",
   "execution_count": 66,
   "id": "1108a821-7a10-405b-bd67-ef026df2f7dd",
   "metadata": {},
   "outputs": [
    {
     "data": {
      "text/plain": [
       "['vijay', 'swapnil', 'shubhangi']"
      ]
     },
     "execution_count": 66,
     "metadata": {},
     "output_type": "execute_result"
    }
   ],
   "source": [
    "l4"
   ]
  },
  {
   "cell_type": "code",
   "execution_count": 68,
   "id": "7bd9b575-5e2a-432c-af2d-0bd9379b8445",
   "metadata": {},
   "outputs": [
    {
     "data": {
      "text/plain": [
       "['vijay', 'swapnil', 'shubhangi']"
      ]
     },
     "execution_count": 68,
     "metadata": {},
     "output_type": "execute_result"
    }
   ],
   "source": [
    "l4"
   ]
  },
  {
   "cell_type": "code",
   "execution_count": 69,
   "id": "f44642a2-77c6-4444-8a18-59c4b3d987fe",
   "metadata": {},
   "outputs": [
    {
     "data": {
      "text/plain": [
       "0"
      ]
     },
     "execution_count": 69,
     "metadata": {},
     "output_type": "execute_result"
    }
   ],
   "source": [
    "l4.index('vijay')"
   ]
  },
  {
   "cell_type": "code",
   "execution_count": 72,
   "id": "3714b890-9f1e-4115-8c69-702b5abafdb8",
   "metadata": {},
   "outputs": [
    {
     "data": {
      "text/plain": [
       "2"
      ]
     },
     "execution_count": 72,
     "metadata": {},
     "output_type": "execute_result"
    }
   ],
   "source": [
    "l4.index(\"shubhangi\")"
   ]
  },
  {
   "cell_type": "code",
   "execution_count": 73,
   "id": "dad26ff0-fc04-4370-ac36-db01a0e44ef5",
   "metadata": {},
   "outputs": [
    {
     "data": {
      "text/plain": [
       "1"
      ]
     },
     "execution_count": 73,
     "metadata": {},
     "output_type": "execute_result"
    }
   ],
   "source": [
    "l4.count('swapnil')"
   ]
  },
  {
   "cell_type": "code",
   "execution_count": 74,
   "id": "db4e7c4a-8463-474f-a720-8b9c7c1af1eb",
   "metadata": {},
   "outputs": [
    {
     "data": {
      "text/plain": [
       "'swapnil'"
      ]
     },
     "execution_count": 74,
     "metadata": {},
     "output_type": "execute_result"
    }
   ],
   "source": [
    "s"
   ]
  },
  {
   "cell_type": "code",
   "execution_count": 75,
   "id": "5ef2e3d9-afaf-4b8c-8f95-02c398a18445",
   "metadata": {},
   "outputs": [],
   "source": [
    "l5=[25,36,54,69]"
   ]
  },
  {
   "cell_type": "code",
   "execution_count": 77,
   "id": "6d8cf98d-774a-4245-9c13-95ab396ce5b2",
   "metadata": {},
   "outputs": [
    {
     "ename": "TypeError",
     "evalue": "'str' object does not support item assignment",
     "output_type": "error",
     "traceback": [
      "\u001b[0;31m---------------------------------------------------------------------------\u001b[0m",
      "\u001b[0;31mTypeError\u001b[0m                                 Traceback (most recent call last)",
      "Cell \u001b[0;32mIn[77], line 1\u001b[0m\n\u001b[0;32m----> 1\u001b[0m \u001b[43ms\u001b[49m\u001b[43m[\u001b[49m\u001b[38;5;241;43m0\u001b[39;49m\u001b[43m]\u001b[49m\u001b[38;5;241m=\u001b[39m\u001b[38;5;124m'\u001b[39m\u001b[38;5;124ma\u001b[39m\u001b[38;5;124m'\u001b[39m\n",
      "\u001b[0;31mTypeError\u001b[0m: 'str' object does not support item assignment"
     ]
    }
   ],
   "source": [
    "s[0]='a'"
   ]
  },
  {
   "cell_type": "code",
   "execution_count": 78,
   "id": "e64c2a56-562a-4fb8-b890-d82b9997d8e5",
   "metadata": {},
   "outputs": [],
   "source": [
    "l5[0]=30"
   ]
  },
  {
   "cell_type": "code",
   "execution_count": 79,
   "id": "de2c279b-7dec-4e90-a6eb-6fc8dfbacba8",
   "metadata": {},
   "outputs": [
    {
     "data": {
      "text/plain": [
       "[30, 36, 54, 69]"
      ]
     },
     "execution_count": 79,
     "metadata": {},
     "output_type": "execute_result"
    }
   ],
   "source": [
    "l5"
   ]
  },
  {
   "cell_type": "code",
   "execution_count": 80,
   "id": "818e3fc2-412c-4173-a874-f9b7889a1d2f",
   "metadata": {},
   "outputs": [
    {
     "data": {
      "text/plain": [
       "'swapnil'"
      ]
     },
     "execution_count": 80,
     "metadata": {},
     "output_type": "execute_result"
    }
   ],
   "source": [
    "s"
   ]
  },
  {
   "cell_type": "code",
   "execution_count": 81,
   "id": "beb27ca6-60fc-4909-9e1a-39e15cbbab9d",
   "metadata": {},
   "outputs": [
    {
     "data": {
      "text/plain": [
       "'awapnil'"
      ]
     },
     "execution_count": 81,
     "metadata": {},
     "output_type": "execute_result"
    }
   ],
   "source": [
    "s.replace('s','a')"
   ]
  },
  {
   "cell_type": "code",
   "execution_count": 82,
   "id": "67a92c4e-c4b1-4154-8440-2cef2e8031ae",
   "metadata": {},
   "outputs": [
    {
     "data": {
      "text/plain": [
       "'swapnil'"
      ]
     },
     "execution_count": 82,
     "metadata": {},
     "output_type": "execute_result"
    }
   ],
   "source": [
    "s"
   ]
  },
  {
   "cell_type": "code",
   "execution_count": 84,
   "id": "96cfb6f3-7ca9-4009-b8c7-f2173234a233",
   "metadata": {},
   "outputs": [],
   "source": [
    "t=(925,45,63.25,\"light\",True,'swapnil')"
   ]
  },
  {
   "cell_type": "code",
   "execution_count": 85,
   "id": "d8b502c9-6ebe-4db6-8126-24b341399be5",
   "metadata": {},
   "outputs": [
    {
     "data": {
      "text/plain": [
       "(925, 45, 63.25, 'light', True, 'swapnil')"
      ]
     },
     "execution_count": 85,
     "metadata": {},
     "output_type": "execute_result"
    }
   ],
   "source": [
    "t"
   ]
  },
  {
   "cell_type": "code",
   "execution_count": 86,
   "id": "12ebd976-facc-47a1-a29e-7706cdee0be5",
   "metadata": {},
   "outputs": [
    {
     "data": {
      "text/plain": [
       "tuple"
      ]
     },
     "execution_count": 86,
     "metadata": {},
     "output_type": "execute_result"
    }
   ],
   "source": [
    "type(t)"
   ]
  },
  {
   "cell_type": "code",
   "execution_count": 87,
   "id": "6ff42366-871a-4f28-9887-66b26eda9a97",
   "metadata": {},
   "outputs": [
    {
     "data": {
      "text/plain": [
       "6"
      ]
     },
     "execution_count": 87,
     "metadata": {},
     "output_type": "execute_result"
    }
   ],
   "source": [
    "len(t)"
   ]
  },
  {
   "cell_type": "code",
   "execution_count": 89,
   "id": "a7ec6371-3b77-4c17-8f82-4beda9c2d0ae",
   "metadata": {},
   "outputs": [
    {
     "data": {
      "text/plain": [
       "45"
      ]
     },
     "execution_count": 89,
     "metadata": {},
     "output_type": "execute_result"
    }
   ],
   "source": [
    "t[1]"
   ]
  },
  {
   "cell_type": "code",
   "execution_count": 90,
   "id": "af7db6e2-9f76-450a-adce-f72ef4f91b57",
   "metadata": {},
   "outputs": [
    {
     "data": {
      "text/plain": [
       "('swapnil', True, 'light', 63.25, 45, 925)"
      ]
     },
     "execution_count": 90,
     "metadata": {},
     "output_type": "execute_result"
    }
   ],
   "source": [
    "t[::-1]"
   ]
  },
  {
   "cell_type": "code",
   "execution_count": 95,
   "id": "9d64e50f-7166-44e3-82e2-dae38ff94c12",
   "metadata": {},
   "outputs": [
    {
     "data": {
      "text/plain": [
       "['vijay', 'swapnil', 'shubhangi']"
      ]
     },
     "execution_count": 95,
     "metadata": {},
     "output_type": "execute_result"
    }
   ],
   "source": [
    "l4"
   ]
  },
  {
   "cell_type": "code",
   "execution_count": 96,
   "id": "8e1550f8-639e-46df-a8b8-8bad14d79ae6",
   "metadata": {},
   "outputs": [],
   "source": [
    "l4[0]=256"
   ]
  },
  {
   "cell_type": "code",
   "execution_count": 97,
   "id": "c5fd634b-498d-42d1-aab3-0e1f8fa257d9",
   "metadata": {},
   "outputs": [
    {
     "data": {
      "text/plain": [
       "[256, 'swapnil', 'shubhangi']"
      ]
     },
     "execution_count": 97,
     "metadata": {},
     "output_type": "execute_result"
    }
   ],
   "source": [
    "l4"
   ]
  },
  {
   "cell_type": "code",
   "execution_count": 98,
   "id": "52ebf922-45ee-4d68-bf76-3ec2de3f6abd",
   "metadata": {},
   "outputs": [
    {
     "ename": "TypeError",
     "evalue": "'tuple' object does not support item assignment",
     "output_type": "error",
     "traceback": [
      "\u001b[0;31m---------------------------------------------------------------------------\u001b[0m",
      "\u001b[0;31mTypeError\u001b[0m                                 Traceback (most recent call last)",
      "Cell \u001b[0;32mIn[98], line 1\u001b[0m\n\u001b[0;32m----> 1\u001b[0m \u001b[43mt\u001b[49m\u001b[43m[\u001b[49m\u001b[38;5;241;43m0\u001b[39;49m\u001b[43m]\u001b[49m\u001b[38;5;241m=\u001b[39m\u001b[38;5;241m58\u001b[39m\n",
      "\u001b[0;31mTypeError\u001b[0m: 'tuple' object does not support item assignment"
     ]
    }
   ],
   "source": [
    "t[0]=58"
   ]
  },
  {
   "cell_type": "code",
   "execution_count": 99,
   "id": "c6eeda7d-549f-4aa1-b782-a1bc51de4445",
   "metadata": {},
   "outputs": [
    {
     "data": {
      "text/plain": [
       "('swapnil', True, 'light', 63.25, 45, 925)"
      ]
     },
     "execution_count": 99,
     "metadata": {},
     "output_type": "execute_result"
    }
   ],
   "source": [
    "t[::-1]"
   ]
  },
  {
   "cell_type": "code",
   "execution_count": 102,
   "id": "23ab9d75-627c-410e-8c8a-dab195c3e0a0",
   "metadata": {},
   "outputs": [
    {
     "data": {
      "text/plain": [
       "1"
      ]
     },
     "execution_count": 102,
     "metadata": {},
     "output_type": "execute_result"
    }
   ],
   "source": [
    "t.index(45)"
   ]
  },
  {
   "cell_type": "code",
   "execution_count": 103,
   "id": "a19bed17-bf61-4d2b-b646-7513eada85f8",
   "metadata": {},
   "outputs": [
    {
     "data": {
      "text/plain": [
       "4"
      ]
     },
     "execution_count": 103,
     "metadata": {},
     "output_type": "execute_result"
    }
   ],
   "source": [
    "t.index(True)"
   ]
  },
  {
   "cell_type": "code",
   "execution_count": 105,
   "id": "90520f59-4634-4a70-a6a8-c77a324ce340",
   "metadata": {},
   "outputs": [],
   "source": [
    "s1={}"
   ]
  },
  {
   "cell_type": "code",
   "execution_count": 106,
   "id": "971db581-eb12-4747-b7d5-b61c7d7a45e5",
   "metadata": {},
   "outputs": [
    {
     "data": {
      "text/plain": [
       "dict"
      ]
     },
     "execution_count": 106,
     "metadata": {},
     "output_type": "execute_result"
    }
   ],
   "source": [
    "type(s1)"
   ]
  },
  {
   "cell_type": "code",
   "execution_count": 107,
   "id": "95df5ace-6147-400a-b586-459d1e2b1a19",
   "metadata": {},
   "outputs": [],
   "source": [
    "s2={52,25,3.36,True,'swapnil',\"shubhangi\"}"
   ]
  },
  {
   "cell_type": "code",
   "execution_count": 108,
   "id": "cd13a608-2bb1-42cd-98d2-4d7d310b3204",
   "metadata": {},
   "outputs": [
    {
     "data": {
      "text/plain": [
       "{25, 3.36, 52, True, 'shubhangi', 'swapnil'}"
      ]
     },
     "execution_count": 108,
     "metadata": {},
     "output_type": "execute_result"
    }
   ],
   "source": [
    "s2"
   ]
  },
  {
   "cell_type": "code",
   "execution_count": 109,
   "id": "e98b393e-c72a-4c40-901a-3ffde2ea84d9",
   "metadata": {},
   "outputs": [
    {
     "data": {
      "text/plain": [
       "set"
      ]
     },
     "execution_count": 109,
     "metadata": {},
     "output_type": "execute_result"
    }
   ],
   "source": [
    "type(s2)"
   ]
  },
  {
   "cell_type": "code",
   "execution_count": 110,
   "id": "fc51c914-6323-44e9-8702-c85aaf396c08",
   "metadata": {},
   "outputs": [],
   "source": [
    "s3={1,25,4,3,5,6,3,2,1,4,5,9,8,7,8,9,2}"
   ]
  },
  {
   "cell_type": "code",
   "execution_count": 111,
   "id": "21569a26-f96a-4fe8-85f9-bcaebd636840",
   "metadata": {},
   "outputs": [
    {
     "data": {
      "text/plain": [
       "{1, 2, 3, 4, 5, 6, 7, 8, 9, 25}"
      ]
     },
     "execution_count": 111,
     "metadata": {},
     "output_type": "execute_result"
    }
   ],
   "source": [
    "s3"
   ]
  },
  {
   "cell_type": "code",
   "execution_count": 112,
   "id": "c5543010-6187-4c5a-b2c7-ddbfea640bf2",
   "metadata": {},
   "outputs": [],
   "source": [
    "l6=[21,21,36,36,54,54,89,89,6325,6325,14,15,15,14]"
   ]
  },
  {
   "cell_type": "code",
   "execution_count": 113,
   "id": "c7d362b0-a1ec-44ce-9e68-435c675cebb0",
   "metadata": {},
   "outputs": [
    {
     "data": {
      "text/plain": [
       "{14, 15, 21, 36, 54, 89, 6325}"
      ]
     },
     "execution_count": 113,
     "metadata": {},
     "output_type": "execute_result"
    }
   ],
   "source": [
    "set(l6)"
   ]
  },
  {
   "cell_type": "code",
   "execution_count": 114,
   "id": "8c388d03-38a2-4a10-b20d-38d44fed644b",
   "metadata": {},
   "outputs": [
    {
     "data": {
      "text/plain": [
       "[21, 21, 36, 36, 54, 54, 89, 89, 6325, 6325, 14, 15, 15, 14]"
      ]
     },
     "execution_count": 114,
     "metadata": {},
     "output_type": "execute_result"
    }
   ],
   "source": [
    "l6"
   ]
  },
  {
   "cell_type": "code",
   "execution_count": 115,
   "id": "0d367170-3a2d-40b9-a159-b9d74a9cb323",
   "metadata": {},
   "outputs": [],
   "source": [
    "l6=list(set(l6))"
   ]
  },
  {
   "cell_type": "code",
   "execution_count": 116,
   "id": "bfa272ea-ebac-4ca4-85a7-0c2272b234ee",
   "metadata": {},
   "outputs": [
    {
     "data": {
      "text/plain": [
       "[36, 14, 15, 21, 54, 6325, 89]"
      ]
     },
     "execution_count": 116,
     "metadata": {},
     "output_type": "execute_result"
    }
   ],
   "source": [
    "l6"
   ]
  },
  {
   "cell_type": "code",
   "execution_count": 117,
   "id": "4c9d32a1-8c30-4f6f-b1f1-fd64e069abb4",
   "metadata": {},
   "outputs": [
    {
     "data": {
      "text/plain": [
       "{25, 3.36, 52, True, 'shubhangi', 'swapnil'}"
      ]
     },
     "execution_count": 117,
     "metadata": {},
     "output_type": "execute_result"
    }
   ],
   "source": [
    "s2"
   ]
  },
  {
   "cell_type": "code",
   "execution_count": 119,
   "id": "be52bd21-02a2-44f3-aad1-c6445b0038c9",
   "metadata": {},
   "outputs": [
    {
     "ename": "TypeError",
     "evalue": "'set' object is not subscriptable",
     "output_type": "error",
     "traceback": [
      "\u001b[0;31m---------------------------------------------------------------------------\u001b[0m",
      "\u001b[0;31mTypeError\u001b[0m                                 Traceback (most recent call last)",
      "Cell \u001b[0;32mIn[119], line 1\u001b[0m\n\u001b[0;32m----> 1\u001b[0m \u001b[43ms2\u001b[49m\u001b[43m[\u001b[49m\u001b[43m:\u001b[49m\u001b[43m:\u001b[49m\u001b[38;5;241;43m-\u001b[39;49m\u001b[38;5;241;43m1\u001b[39;49m\u001b[43m]\u001b[49m\n",
      "\u001b[0;31mTypeError\u001b[0m: 'set' object is not subscriptable"
     ]
    }
   ],
   "source": [
    "s2[::-1]"
   ]
  },
  {
   "cell_type": "code",
   "execution_count": 120,
   "id": "7408ab02-d071-440c-9606-69182ffc0a3a",
   "metadata": {},
   "outputs": [],
   "source": [
    "s2.add(4)"
   ]
  },
  {
   "cell_type": "code",
   "execution_count": 121,
   "id": "24fce768-3bc5-422d-af2a-3d195c32e878",
   "metadata": {},
   "outputs": [
    {
     "data": {
      "text/plain": [
       "{25, 3.36, 4, 52, True, 'shubhangi', 'swapnil'}"
      ]
     },
     "execution_count": 121,
     "metadata": {},
     "output_type": "execute_result"
    }
   ],
   "source": [
    "s2"
   ]
  },
  {
   "cell_type": "code",
   "execution_count": 122,
   "id": "9e2ed2e8-3314-4442-833a-05ab5ef70627",
   "metadata": {},
   "outputs": [
    {
     "ename": "TypeError",
     "evalue": "'builtin_function_or_method' object is not subscriptable",
     "output_type": "error",
     "traceback": [
      "\u001b[0;31m---------------------------------------------------------------------------\u001b[0m",
      "\u001b[0;31mTypeError\u001b[0m                                 Traceback (most recent call last)",
      "Cell \u001b[0;32mIn[122], line 1\u001b[0m\n\u001b[0;32m----> 1\u001b[0m \u001b[43ms2\u001b[49m\u001b[38;5;241;43m.\u001b[39;49m\u001b[43mremove\u001b[49m\u001b[43m[\u001b[49m\u001b[38;5;241;43m52\u001b[39;49m\u001b[43m]\u001b[49m\n",
      "\u001b[0;31mTypeError\u001b[0m: 'builtin_function_or_method' object is not subscriptable"
     ]
    }
   ],
   "source": [
    "s2.remove[52]"
   ]
  },
  {
   "cell_type": "code",
   "execution_count": null,
   "id": "5f94a6b9-0d6c-4988-a3d7-75d10dc99096",
   "metadata": {},
   "outputs": [],
   "source": []
  }
 ],
 "metadata": {
  "kernelspec": {
   "display_name": "Python 3 (ipykernel)",
   "language": "python",
   "name": "python3"
  },
  "language_info": {
   "codemirror_mode": {
    "name": "ipython",
    "version": 3
   },
   "file_extension": ".py",
   "mimetype": "text/x-python",
   "name": "python",
   "nbconvert_exporter": "python",
   "pygments_lexer": "ipython3",
   "version": "3.10.8"
  }
 },
 "nbformat": 4,
 "nbformat_minor": 5
}
