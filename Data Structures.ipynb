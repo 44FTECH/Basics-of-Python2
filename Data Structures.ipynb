{
 "cells": [
  {
   "cell_type": "code",
   "execution_count": 1,
   "id": "61e14476-863f-47a0-a7ef-c576649f9c40",
   "metadata": {},
   "outputs": [
    {
     "data": {
      "text/plain": [
       "94"
      ]
     },
     "execution_count": 1,
     "metadata": {},
     "output_type": "execute_result"
    }
   ],
   "source": [
    "25+69"
   ]
  },
  {
   "cell_type": "code",
   "execution_count": 2,
   "id": "6251001a-8aa6-430f-afec-879d578c8d46",
   "metadata": {},
   "outputs": [
    {
     "data": {
      "text/plain": [
       "35.583333333333336"
      ]
     },
     "execution_count": 2,
     "metadata": {},
     "output_type": "execute_result"
    }
   ],
   "source": [
    "854/24"
   ]
  },
  {
   "cell_type": "code",
   "execution_count": 3,
   "id": "3ded568f-30fa-409f-b981-7a6ce6b540d3",
   "metadata": {},
   "outputs": [
    {
     "data": {
      "text/plain": [
       "1728"
      ]
     },
     "execution_count": 3,
     "metadata": {},
     "output_type": "execute_result"
    }
   ],
   "source": [
    "12**3"
   ]
  },
  {
   "cell_type": "code",
   "execution_count": 4,
   "id": "52ba7610-9a26-4144-8909-7dab6b293cc2",
   "metadata": {},
   "outputs": [
    {
     "data": {
      "text/plain": [
       "5.0"
      ]
     },
     "execution_count": 4,
     "metadata": {},
     "output_type": "execute_result"
    }
   ],
   "source": [
    "85/17"
   ]
  },
  {
   "cell_type": "code",
   "execution_count": 5,
   "id": "4df1a757-d6d7-4e8d-b7a5-3d74abb966a4",
   "metadata": {},
   "outputs": [
    {
     "data": {
      "text/plain": [
       "0"
      ]
     },
     "execution_count": 5,
     "metadata": {},
     "output_type": "execute_result"
    }
   ],
   "source": [
    "52%13"
   ]
  },
  {
   "cell_type": "code",
   "execution_count": 6,
   "id": "3eec4636-49c2-4db6-9a4e-0a34d15e4fbe",
   "metadata": {},
   "outputs": [
    {
     "data": {
      "text/plain": [
       "7"
      ]
     },
     "execution_count": 6,
     "metadata": {},
     "output_type": "execute_result"
    }
   ],
   "source": [
    "98//14"
   ]
  },
  {
   "cell_type": "code",
   "execution_count": 7,
   "id": "94d957ee-b83a-470a-a2bf-639ab3cc27a3",
   "metadata": {},
   "outputs": [],
   "source": [
    "a=98/14"
   ]
  },
  {
   "cell_type": "code",
   "execution_count": 8,
   "id": "d67cc455-5f2f-4672-acf1-fcbfe63a1bbb",
   "metadata": {},
   "outputs": [
    {
     "data": {
      "text/plain": [
       "7.0"
      ]
     },
     "execution_count": 8,
     "metadata": {},
     "output_type": "execute_result"
    }
   ],
   "source": [
    "a"
   ]
  },
  {
   "cell_type": "code",
   "execution_count": 9,
   "id": "ba8d94b4-5f24-4459-becb-1704274de89b",
   "metadata": {},
   "outputs": [
    {
     "data": {
      "text/plain": [
       "float"
      ]
     },
     "execution_count": 9,
     "metadata": {},
     "output_type": "execute_result"
    }
   ],
   "source": [
    "type(a)"
   ]
  },
  {
   "cell_type": "code",
   "execution_count": 10,
   "id": "294af5a1-33f5-4900-ae9d-7333b9495d90",
   "metadata": {},
   "outputs": [],
   "source": [
    "c=5698"
   ]
  },
  {
   "cell_type": "code",
   "execution_count": 11,
   "id": "b3acdc49-cbeb-4366-aa84-a99effcd1f77",
   "metadata": {},
   "outputs": [
    {
     "data": {
      "text/plain": [
       "int"
      ]
     },
     "execution_count": 11,
     "metadata": {},
     "output_type": "execute_result"
    }
   ],
   "source": [
    "type(c)"
   ]
  },
  {
   "cell_type": "code",
   "execution_count": 12,
   "id": "9b0ec2b2-4935-4af7-a93b-04a84e66cd5b",
   "metadata": {},
   "outputs": [],
   "source": [
    "o=[14,25,54.36,\"swap\",True,'vijay',False]"
   ]
  },
  {
   "cell_type": "code",
   "execution_count": 13,
   "id": "ed822f9b-3a7b-412d-99c3-895ae4afa6c6",
   "metadata": {},
   "outputs": [
    {
     "data": {
      "text/plain": [
       "list"
      ]
     },
     "execution_count": 13,
     "metadata": {},
     "output_type": "execute_result"
    }
   ],
   "source": [
    "type(o)"
   ]
  },
  {
   "cell_type": "code",
   "execution_count": 14,
   "id": "621c8a7f-2b42-4990-8ae3-6c049c3b13f1",
   "metadata": {},
   "outputs": [
    {
     "data": {
      "text/plain": [
       "'vijay'"
      ]
     },
     "execution_count": 14,
     "metadata": {},
     "output_type": "execute_result"
    }
   ],
   "source": [
    "o[-2]"
   ]
  },
  {
   "cell_type": "code",
   "execution_count": 17,
   "id": "b8a1c76b-f624-497e-affb-5487023a6872",
   "metadata": {},
   "outputs": [
    {
     "data": {
      "text/plain": [
       "str"
      ]
     },
     "execution_count": 17,
     "metadata": {},
     "output_type": "execute_result"
    }
   ],
   "source": [
    "type(\"swap\")"
   ]
  },
  {
   "cell_type": "code",
   "execution_count": 19,
   "id": "5309d21c-dc4f-4433-bbcd-8c25d0c892b5",
   "metadata": {},
   "outputs": [
    {
     "data": {
      "text/plain": [
       "str"
      ]
     },
     "execution_count": 19,
     "metadata": {},
     "output_type": "execute_result"
    }
   ],
   "source": [
    "type('integer')"
   ]
  },
  {
   "cell_type": "code",
   "execution_count": 20,
   "id": "f6986278-c4cd-4818-a6ff-3489ea7b7945",
   "metadata": {},
   "outputs": [],
   "source": [
    "o[-4]=4800"
   ]
  },
  {
   "cell_type": "code",
   "execution_count": 21,
   "id": "5cdd6fa5-1416-470e-b034-fa4d497cf42b",
   "metadata": {},
   "outputs": [
    {
     "data": {
      "text/plain": [
       "[14, 25, 54.36, 4800, True, 'vijay', False]"
      ]
     },
     "execution_count": 21,
     "metadata": {},
     "output_type": "execute_result"
    }
   ],
   "source": [
    "o"
   ]
  },
  {
   "cell_type": "code",
   "execution_count": 22,
   "id": "202d1251-3262-4d91-980c-007926cc893f",
   "metadata": {},
   "outputs": [],
   "source": [
    "d=\"Swapnil\""
   ]
  },
  {
   "cell_type": "code",
   "execution_count": 23,
   "id": "ee7e3964-c237-4699-a138-d495b4145877",
   "metadata": {},
   "outputs": [
    {
     "data": {
      "text/plain": [
       "'Swapnil'"
      ]
     },
     "execution_count": 23,
     "metadata": {},
     "output_type": "execute_result"
    }
   ],
   "source": [
    "d"
   ]
  },
  {
   "cell_type": "code",
   "execution_count": 24,
   "id": "9b7a8757-7f4e-4f75-8440-3b2fb5c2933e",
   "metadata": {},
   "outputs": [
    {
     "data": {
      "text/plain": [
       "1"
      ]
     },
     "execution_count": 24,
     "metadata": {},
     "output_type": "execute_result"
    }
   ],
   "source": [
    "True-False"
   ]
  },
  {
   "cell_type": "code",
   "execution_count": 25,
   "id": "e68abec1-296f-4f51-bc49-3098c8e7ce28",
   "metadata": {},
   "outputs": [
    {
     "data": {
      "text/plain": [
       "bool"
      ]
     },
     "execution_count": 25,
     "metadata": {},
     "output_type": "execute_result"
    }
   ],
   "source": [
    "type(True)"
   ]
  },
  {
   "cell_type": "code",
   "execution_count": 27,
   "id": "11f4a2b7-3a66-453f-8455-ed1f0642ad9b",
   "metadata": {},
   "outputs": [
    {
     "data": {
      "text/plain": [
       "0.0"
      ]
     },
     "execution_count": 27,
     "metadata": {},
     "output_type": "execute_result"
    }
   ],
   "source": [
    "False/True"
   ]
  },
  {
   "cell_type": "code",
   "execution_count": 28,
   "id": "e48ef7c7-79dc-48f8-893d-b24d32211019",
   "metadata": {},
   "outputs": [
    {
     "data": {
      "text/plain": [
       "'FalseTrue'"
      ]
     },
     "execution_count": 28,
     "metadata": {},
     "output_type": "execute_result"
    }
   ],
   "source": [
    "'False'+'True'"
   ]
  },
  {
   "cell_type": "code",
   "execution_count": 29,
   "id": "d272d443-75cd-409a-b6a3-37be16854188",
   "metadata": {},
   "outputs": [],
   "source": [
    "s=4+85j"
   ]
  },
  {
   "cell_type": "code",
   "execution_count": 30,
   "id": "57bb34a1-52df-4e3b-a0c1-8e444d02aecd",
   "metadata": {},
   "outputs": [
    {
     "data": {
      "text/plain": [
       "complex"
      ]
     },
     "execution_count": 30,
     "metadata": {},
     "output_type": "execute_result"
    }
   ],
   "source": [
    "type(s)"
   ]
  },
  {
   "cell_type": "code",
   "execution_count": 32,
   "id": "933b50d3-d97f-4665-bcfa-26ba4b27bd93",
   "metadata": {},
   "outputs": [
    {
     "data": {
      "text/plain": [
       "4.0"
      ]
     },
     "execution_count": 32,
     "metadata": {},
     "output_type": "execute_result"
    }
   ],
   "source": [
    "s.real"
   ]
  },
  {
   "cell_type": "code",
   "execution_count": 33,
   "id": "7431aef4-f4af-4dbc-b2b1-996e3d57bd7b",
   "metadata": {},
   "outputs": [
    {
     "data": {
      "text/plain": [
       "85.0"
      ]
     },
     "execution_count": 33,
     "metadata": {},
     "output_type": "execute_result"
    }
   ],
   "source": [
    "s.imag"
   ]
  },
  {
   "cell_type": "code",
   "execution_count": 35,
   "id": "5e0c1e0f-df8c-40f7-b143-e1b99ad069e6",
   "metadata": {},
   "outputs": [
    {
     "name": "stdout",
     "output_type": "stream",
     "text": [
      "I am Swapnil\n"
     ]
    }
   ],
   "source": [
    "print(\"I am Swapnil\")"
   ]
  },
  {
   "cell_type": "code",
   "execution_count": 36,
   "id": "c4f8d2d4-91b2-4863-a859-8229c679078c",
   "metadata": {},
   "outputs": [
    {
     "name": "stdout",
     "output_type": "stream",
     "text": [
      "Swapnil\n"
     ]
    }
   ],
   "source": [
    "print(d)"
   ]
  },
  {
   "cell_type": "code",
   "execution_count": 37,
   "id": "b8787067-336c-468a-a232-db6e89f8eb59",
   "metadata": {},
   "outputs": [
    {
     "data": {
      "text/plain": [
       "'l'"
      ]
     },
     "execution_count": 37,
     "metadata": {},
     "output_type": "execute_result"
    }
   ],
   "source": [
    "d[-1]"
   ]
  },
  {
   "cell_type": "code",
   "execution_count": 38,
   "id": "5bffb0cb-2d8a-4e92-b8bf-a651f0f5bb39",
   "metadata": {},
   "outputs": [
    {
     "data": {
      "text/plain": [
       "'n'"
      ]
     },
     "execution_count": 38,
     "metadata": {},
     "output_type": "execute_result"
    }
   ],
   "source": [
    "d[4]"
   ]
  },
  {
   "cell_type": "code",
   "execution_count": 41,
   "id": "cd52723a-2a73-41c5-9a39-5e113a34a87a",
   "metadata": {},
   "outputs": [
    {
     "data": {
      "text/plain": [
       "'n'"
      ]
     },
     "execution_count": 41,
     "metadata": {},
     "output_type": "execute_result"
    }
   ],
   "source": [
    "d[-3]"
   ]
  },
  {
   "cell_type": "code",
   "execution_count": 44,
   "id": "9b9b09ef-7a71-498d-8d1d-ff9c42fc1882",
   "metadata": {},
   "outputs": [
    {
     "data": {
      "text/plain": [
       "'Swa'"
      ]
     },
     "execution_count": 44,
     "metadata": {},
     "output_type": "execute_result"
    }
   ],
   "source": [
    "d[0:3]"
   ]
  },
  {
   "cell_type": "code",
   "execution_count": 47,
   "id": "90806f66-7125-4628-a7f7-501b1329d6f3",
   "metadata": {},
   "outputs": [
    {
     "data": {
      "text/plain": [
       "'Swapni'"
      ]
     },
     "execution_count": 47,
     "metadata": {},
     "output_type": "execute_result"
    }
   ],
   "source": [
    "d[0:6]"
   ]
  },
  {
   "cell_type": "code",
   "execution_count": 48,
   "id": "f9ee7c49-1c98-409e-bf4b-4c1960fb4ff3",
   "metadata": {},
   "outputs": [
    {
     "data": {
      "text/plain": [
       "'Sanl'"
      ]
     },
     "execution_count": 48,
     "metadata": {},
     "output_type": "execute_result"
    }
   ],
   "source": [
    "d[0:7:2]"
   ]
  },
  {
   "cell_type": "code",
   "execution_count": 49,
   "id": "da63d34e-9859-49d3-ab70-35021448d9e0",
   "metadata": {},
   "outputs": [
    {
     "data": {
      "text/plain": [
       "'San'"
      ]
     },
     "execution_count": 49,
     "metadata": {},
     "output_type": "execute_result"
    }
   ],
   "source": [
    "d[0:5:2]"
   ]
  },
  {
   "cell_type": "code",
   "execution_count": 50,
   "id": "84466a23-628e-4e58-a0a6-ab057eb5ae0e",
   "metadata": {},
   "outputs": [
    {
     "data": {
      "text/plain": [
       "'Sanl'"
      ]
     },
     "execution_count": 50,
     "metadata": {},
     "output_type": "execute_result"
    }
   ],
   "source": [
    "d[::2]"
   ]
  },
  {
   "cell_type": "code",
   "execution_count": 54,
   "id": "ae57eb57-df7b-460e-a187-b8958b8663fb",
   "metadata": {},
   "outputs": [
    {
     "data": {
      "text/plain": [
       "'wapn'"
      ]
     },
     "execution_count": 54,
     "metadata": {},
     "output_type": "execute_result"
    }
   ],
   "source": [
    "d[1:5]\n"
   ]
  },
  {
   "cell_type": "code",
   "execution_count": 55,
   "id": "abb30a3a-aac3-48c9-b28c-277245ac59f1",
   "metadata": {},
   "outputs": [
    {
     "data": {
      "text/plain": [
       "'linpawS'"
      ]
     },
     "execution_count": 55,
     "metadata": {},
     "output_type": "execute_result"
    }
   ],
   "source": [
    "d[::-1]"
   ]
  },
  {
   "cell_type": "code",
   "execution_count": 56,
   "id": "90596253-2274-46d9-96c0-74c748aaf7b3",
   "metadata": {},
   "outputs": [
    {
     "data": {
      "text/plain": [
       "''"
      ]
     },
     "execution_count": 56,
     "metadata": {},
     "output_type": "execute_result"
    }
   ],
   "source": [
    "d[2:7:-1]"
   ]
  },
  {
   "cell_type": "code",
   "execution_count": 57,
   "id": "9c9150c0-6def-46a0-ad8e-0fca0fa70a32",
   "metadata": {},
   "outputs": [
    {
     "data": {
      "text/plain": [
       "''"
      ]
     },
     "execution_count": 57,
     "metadata": {},
     "output_type": "execute_result"
    }
   ],
   "source": [
    "d[7:0]"
   ]
  },
  {
   "cell_type": "code",
   "execution_count": 58,
   "id": "34ed94dd-fbde-42e2-87fe-1ffb4f784324",
   "metadata": {},
   "outputs": [
    {
     "data": {
      "text/plain": [
       "'linpaw'"
      ]
     },
     "execution_count": 58,
     "metadata": {},
     "output_type": "execute_result"
    }
   ],
   "source": [
    "d[7:0:-1]"
   ]
  },
  {
   "cell_type": "code",
   "execution_count": 59,
   "id": "277681d8-d9f2-4583-adcd-4a12b00ea7d3",
   "metadata": {},
   "outputs": [
    {
     "data": {
      "text/plain": [
       "''"
      ]
     },
     "execution_count": 59,
     "metadata": {},
     "output_type": "execute_result"
    }
   ],
   "source": [
    "d[-2:-7:1]"
   ]
  },
  {
   "cell_type": "code",
   "execution_count": 62,
   "id": "d2acfb60-6071-48d1-82a1-08ff3119b727",
   "metadata": {},
   "outputs": [
    {
     "data": {
      "text/plain": [
       "'apn'"
      ]
     },
     "execution_count": 62,
     "metadata": {},
     "output_type": "execute_result"
    }
   ],
   "source": [
    "d[2:5]"
   ]
  },
  {
   "cell_type": "code",
   "execution_count": 63,
   "id": "0eea4334-5c48-496d-8d7e-5d865bcd078c",
   "metadata": {},
   "outputs": [
    {
     "data": {
      "text/plain": [
       "'lnaS'"
      ]
     },
     "execution_count": 63,
     "metadata": {},
     "output_type": "execute_result"
    }
   ],
   "source": [
    "d[::-2]"
   ]
  },
  {
   "cell_type": "code",
   "execution_count": 65,
   "id": "e88fd8a4-6536-494e-89bc-cd9c51997e2e",
   "metadata": {},
   "outputs": [
    {
     "data": {
      "text/plain": [
       "''"
      ]
     },
     "execution_count": 65,
     "metadata": {},
     "output_type": "execute_result"
    }
   ],
   "source": [
    "d[:-56:]"
   ]
  },
  {
   "cell_type": "code",
   "execution_count": 66,
   "id": "ec308a42-d473-4a8e-a887-75ef24b3781c",
   "metadata": {},
   "outputs": [
    {
     "data": {
      "text/plain": [
       "'linpawS'"
      ]
     },
     "execution_count": 66,
     "metadata": {},
     "output_type": "execute_result"
    }
   ],
   "source": [
    "d[:-90:-1]"
   ]
  },
  {
   "cell_type": "code",
   "execution_count": 69,
   "id": "bbdfca79-c7ee-4b84-8e55-6862a778bb09",
   "metadata": {},
   "outputs": [],
   "source": [
    "s1=\"this is my string class\""
   ]
  },
  {
   "cell_type": "code",
   "execution_count": 70,
   "id": "be385082-b4aa-4ba6-be00-a39e4237c08f",
   "metadata": {},
   "outputs": [
    {
     "data": {
      "text/plain": [
       "23"
      ]
     },
     "execution_count": 70,
     "metadata": {},
     "output_type": "execute_result"
    }
   ],
   "source": [
    "len(s1)"
   ]
  },
  {
   "cell_type": "code",
   "execution_count": 71,
   "id": "a7cdb806-16ac-4e14-897e-64b24b205061",
   "metadata": {},
   "outputs": [
    {
     "data": {
      "text/plain": [
       "3"
      ]
     },
     "execution_count": 71,
     "metadata": {},
     "output_type": "execute_result"
    }
   ],
   "source": [
    "s1.find('s')"
   ]
  },
  {
   "cell_type": "code",
   "execution_count": 72,
   "id": "e3bc6d90-e580-41e3-9ecb-e89e0b5f26c0",
   "metadata": {},
   "outputs": [
    {
     "data": {
      "text/plain": [
       "9"
      ]
     },
     "execution_count": 72,
     "metadata": {},
     "output_type": "execute_result"
    }
   ],
   "source": [
    "s1.find('y')"
   ]
  },
  {
   "cell_type": "code",
   "execution_count": 74,
   "id": "db9eda82-ad3a-432c-94d2-99bc801ff9a7",
   "metadata": {},
   "outputs": [
    {
     "data": {
      "text/plain": [
       "18"
      ]
     },
     "execution_count": 74,
     "metadata": {},
     "output_type": "execute_result"
    }
   ],
   "source": [
    "s1.find(\"class\")"
   ]
  },
  {
   "cell_type": "code",
   "execution_count": 75,
   "id": "41b5aaf6-6788-40e9-894e-b95ba2f4dc8e",
   "metadata": {},
   "outputs": [
    {
     "data": {
      "text/plain": [
       "5"
      ]
     },
     "execution_count": 75,
     "metadata": {},
     "output_type": "execute_result"
    }
   ],
   "source": [
    "s1.count('s')"
   ]
  },
  {
   "cell_type": "code",
   "execution_count": 76,
   "id": "3d66fa34-2e69-4422-b9d6-020fd754bbdc",
   "metadata": {},
   "outputs": [
    {
     "data": {
      "text/plain": [
       "1"
      ]
     },
     "execution_count": 76,
     "metadata": {},
     "output_type": "execute_result"
    }
   ],
   "source": [
    "s1.count(\"st\")"
   ]
  },
  {
   "cell_type": "code",
   "execution_count": 79,
   "id": "f63101e2-6b84-4baf-b322-4b5d18444a7d",
   "metadata": {},
   "outputs": [
    {
     "data": {
      "text/plain": [
       "0"
      ]
     },
     "execution_count": 79,
     "metadata": {},
     "output_type": "execute_result"
    }
   ],
   "source": [
    "s1.count('z')"
   ]
  },
  {
   "cell_type": "code",
   "execution_count": 80,
   "id": "0bac5e7f-80d6-41b4-b4ef-a1c2e02c4bee",
   "metadata": {},
   "outputs": [
    {
     "data": {
      "text/plain": [
       "'THIS IS MY STRING CLASS'"
      ]
     },
     "execution_count": 80,
     "metadata": {},
     "output_type": "execute_result"
    }
   ],
   "source": [
    "s1.upper()"
   ]
  },
  {
   "cell_type": "code",
   "execution_count": 82,
   "id": "aba507ee-3d76-43de-885b-a0f3520d4ad8",
   "metadata": {},
   "outputs": [
    {
     "data": {
      "text/plain": [
       "'This Is My String Class'"
      ]
     },
     "execution_count": 82,
     "metadata": {},
     "output_type": "execute_result"
    }
   ],
   "source": [
    "s1.title()"
   ]
  },
  {
   "cell_type": "code",
   "execution_count": 84,
   "id": "31ed70df-4c95-4dae-8ab2-9efd01c1adb5",
   "metadata": {},
   "outputs": [
    {
     "data": {
      "text/plain": [
       "'This is my string class'"
      ]
     },
     "execution_count": 84,
     "metadata": {},
     "output_type": "execute_result"
    }
   ],
   "source": [
    "s1.capitalize()"
   ]
  },
  {
   "cell_type": "markdown",
   "id": "c4f6706f-28a8-4b85-bc88-c27c41a5b045",
   "metadata": {},
   "source": [
    "d"
   ]
  },
  {
   "cell_type": "code",
   "execution_count": 85,
   "id": "eca52a78-f460-45ef-a3dc-ac526ecde4a2",
   "metadata": {},
   "outputs": [
    {
     "data": {
      "text/plain": [
       "'Swapnil'"
      ]
     },
     "execution_count": 85,
     "metadata": {},
     "output_type": "execute_result"
    }
   ],
   "source": [
    "d"
   ]
  },
  {
   "cell_type": "code",
   "execution_count": 86,
   "id": "ef350a90-e3d8-42e9-95fb-07dd40713152",
   "metadata": {},
   "outputs": [
    {
     "ename": "TypeError",
     "evalue": "can only concatenate str (not \"int\") to str",
     "output_type": "error",
     "traceback": [
      "\u001b[0;31m---------------------------------------------------------------------------\u001b[0m",
      "\u001b[0;31mTypeError\u001b[0m                                 Traceback (most recent call last)",
      "Cell \u001b[0;32mIn[86], line 1\u001b[0m\n\u001b[0;32m----> 1\u001b[0m \u001b[43md\u001b[49m\u001b[38;5;241;43m+\u001b[39;49m\u001b[38;5;241;43m1\u001b[39;49m\n",
      "\u001b[0;31mTypeError\u001b[0m: can only concatenate str (not \"int\") to str"
     ]
    }
   ],
   "source": [
    "d+1"
   ]
  },
  {
   "cell_type": "code",
   "execution_count": 87,
   "id": "f73aa945-e69a-40dd-8f01-3e407448f58d",
   "metadata": {},
   "outputs": [
    {
     "data": {
      "text/plain": [
       "'Swapnilvijay'"
      ]
     },
     "execution_count": 87,
     "metadata": {},
     "output_type": "execute_result"
    }
   ],
   "source": [
    "d+'vijay'"
   ]
  },
  {
   "cell_type": "code",
   "execution_count": 88,
   "id": "43325129-4972-4c81-9431-5299ef17d507",
   "metadata": {},
   "outputs": [
    {
     "data": {
      "text/plain": [
       "'Swapnil8'"
      ]
     },
     "execution_count": 88,
     "metadata": {},
     "output_type": "execute_result"
    }
   ],
   "source": [
    "d+str(8)"
   ]
  },
  {
   "cell_type": "code",
   "execution_count": 89,
   "id": "1fa34a4e-f973-4f81-b45e-cd21449bdc06",
   "metadata": {},
   "outputs": [
    {
     "data": {
      "text/plain": [
       "'SwapnilSwapnilSwapnil'"
      ]
     },
     "execution_count": 89,
     "metadata": {},
     "output_type": "execute_result"
    }
   ],
   "source": [
    "d*3"
   ]
  },
  {
   "cell_type": "code",
   "execution_count": 90,
   "id": "dc26c584-bdc9-46ca-96b9-65d83796f06c",
   "metadata": {},
   "outputs": [
    {
     "ename": "TypeError",
     "evalue": "unsupported operand type(s) for /: 'str' and 'int'",
     "output_type": "error",
     "traceback": [
      "\u001b[0;31m---------------------------------------------------------------------------\u001b[0m",
      "\u001b[0;31mTypeError\u001b[0m                                 Traceback (most recent call last)",
      "Cell \u001b[0;32mIn[90], line 1\u001b[0m\n\u001b[0;32m----> 1\u001b[0m \u001b[43md\u001b[49m\u001b[38;5;241;43m/\u001b[39;49m\u001b[38;5;241;43m2\u001b[39;49m\n",
      "\u001b[0;31mTypeError\u001b[0m: unsupported operand type(s) for /: 'str' and 'int'"
     ]
    }
   ],
   "source": [
    "d/2"
   ]
  },
  {
   "cell_type": "code",
   "execution_count": 91,
   "id": "5971cf6c-f87d-4da4-90d8-0fd47d30d1bb",
   "metadata": {},
   "outputs": [
    {
     "data": {
      "text/plain": [
       "\"don't do copy and paste in my class\""
      ]
     },
     "execution_count": 91,
     "metadata": {},
     "output_type": "execute_result"
    }
   ],
   "source": [
    "\"don't do copy and paste in my class\""
   ]
  },
  {
   "cell_type": "code",
   "execution_count": 92,
   "id": "5167dc11-b478-4b32-b38f-6f968a321b3b",
   "metadata": {},
   "outputs": [
    {
     "ename": "SyntaxError",
     "evalue": "unterminated string literal (detected at line 1) (1811489030.py, line 1)",
     "output_type": "error",
     "traceback": [
      "\u001b[0;36m  Cell \u001b[0;32mIn[92], line 1\u001b[0;36m\u001b[0m\n\u001b[0;31m    'don't do copy and paste in my class'\u001b[0m\n\u001b[0m                                        ^\u001b[0m\n\u001b[0;31mSyntaxError\u001b[0m\u001b[0;31m:\u001b[0m unterminated string literal (detected at line 1)\n"
     ]
    }
   ],
   "source": [
    "'don't do copy and paste in my class'"
   ]
  },
  {
   "cell_type": "code",
   "execution_count": 93,
   "id": "b2634c3f-4cce-410f-9321-ead40ab3902e",
   "metadata": {},
   "outputs": [
    {
     "ename": "SyntaxError",
     "evalue": "invalid syntax (2556843461.py, line 1)",
     "output_type": "error",
     "traceback": [
      "\u001b[0;36m  Cell \u001b[0;32mIn[93], line 1\u001b[0;36m\u001b[0m\n\u001b[0;31m    this is my firstprogramming class\u001b[0m\n\u001b[0m               ^\u001b[0m\n\u001b[0;31mSyntaxError\u001b[0m\u001b[0;31m:\u001b[0m invalid syntax\n"
     ]
    }
   ],
   "source": [
    "this is my firstprogramming class"
   ]
  },
  {
   "cell_type": "code",
   "execution_count": 95,
   "id": "500d8800-7245-48cc-b29a-d9b16d541966",
   "metadata": {},
   "outputs": [],
   "source": [
    "##this is my first programming class"
   ]
  },
  {
   "cell_type": "code",
   "execution_count": 96,
   "id": "be93ea3e-b878-4c1a-830c-73429b4e4c03",
   "metadata": {},
   "outputs": [
    {
     "ename": "SyntaxError",
     "evalue": "invalid syntax (3908644630.py, line 1)",
     "output_type": "error",
     "traceback": [
      "\u001b[0;36m  Cell \u001b[0;32mIn[96], line 1\u001b[0;36m\u001b[0m\n\u001b[0;31m    this is my first programming class\u001b[0m\n\u001b[0m               ^\u001b[0m\n\u001b[0;31mSyntaxError\u001b[0m\u001b[0;31m:\u001b[0m invalid syntax\n"
     ]
    }
   ],
   "source": [
    "this is my first programming class\n",
    "I am learning different types of variables, like string,boolean,int,complex number,\n",
    "i have gone throughsome of the string slicing and indexing \n",
    "apart from that i am trying to practice in my system"
   ]
  },
  {
   "cell_type": "code",
   "execution_count": 102,
   "id": "7a893f7b-6592-4bed-8516-6486ccedb0cf",
   "metadata": {},
   "outputs": [
    {
     "data": {
      "text/plain": [
       "'this is my first programming class\\nI am learning different types of variables like string boolean int complex number\\ni have gone throughsome of the string slicing and indexing \\napart from that i am trying to practice in my system'"
      ]
     },
     "execution_count": 102,
     "metadata": {},
     "output_type": "execute_result"
    }
   ],
   "source": [
    "\"\"\"this is my first programming class\n",
    "I am learning different types of variables like string boolean int complex number\n",
    "i have gone throughsome of the string slicing and indexing \n",
    "apart from that i am trying to practice in my system\"\"\""
   ]
  },
  {
   "cell_type": "code",
   "execution_count": null,
   "id": "18e137b6-dfd7-4fc2-b9de-ddd26104dd63",
   "metadata": {},
   "outputs": [],
   "source": []
  }
 ],
 "metadata": {
  "kernelspec": {
   "display_name": "Python 3 (ipykernel)",
   "language": "python",
   "name": "python3"
  },
  "language_info": {
   "codemirror_mode": {
    "name": "ipython",
    "version": 3
   },
   "file_extension": ".py",
   "mimetype": "text/x-python",
   "name": "python",
   "nbconvert_exporter": "python",
   "pygments_lexer": "ipython3",
   "version": "3.10.8"
  }
 },
 "nbformat": 4,
 "nbformat_minor": 5
}
