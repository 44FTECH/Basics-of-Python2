{
 "cells": [
  {
   "cell_type": "code",
   "execution_count": 1,
   "id": "2cc753e8-58c4-4950-87e2-13c154de82ce",
   "metadata": {},
   "outputs": [],
   "source": [
    "a={}"
   ]
  },
  {
   "cell_type": "code",
   "execution_count": 3,
   "id": "227e5a52-4cb7-439b-8363-001f440dc859",
   "metadata": {},
   "outputs": [
    {
     "data": {
      "text/plain": [
       "dict"
      ]
     },
     "execution_count": 3,
     "metadata": {},
     "output_type": "execute_result"
    }
   ],
   "source": [
    "type(a)"
   ]
  },
  {
   "cell_type": "code",
   "execution_count": 4,
   "id": "8a8f60fe-c0e6-4ffb-b082-6386fedca862",
   "metadata": {},
   "outputs": [],
   "source": [
    "a1={'key':'Swapnil'}"
   ]
  },
  {
   "cell_type": "code",
   "execution_count": 5,
   "id": "38eaf0f1-78ae-44fd-a4b4-90eb6deeabd7",
   "metadata": {},
   "outputs": [
    {
     "data": {
      "text/plain": [
       "{'key': 'Swapnil'}"
      ]
     },
     "execution_count": 5,
     "metadata": {},
     "output_type": "execute_result"
    }
   ],
   "source": [
    "a1"
   ]
  },
  {
   "cell_type": "code",
   "execution_count": 6,
   "id": "fbcaec67-6bd8-4b78-bb6a-d5b22c4f581b",
   "metadata": {},
   "outputs": [],
   "source": [
    "a2={'key':'Vijay','email':'44ftech.sk@gmail.com',\"number\":'9579250381'}"
   ]
  },
  {
   "cell_type": "code",
   "execution_count": 7,
   "id": "88831c1a-e0d9-46f1-8af3-0e5af873527f",
   "metadata": {},
   "outputs": [
    {
     "data": {
      "text/plain": [
       "{'key': 'Vijay', 'email': '44ftech.sk@gmail.com', 'number': '9579250381'}"
      ]
     },
     "execution_count": 7,
     "metadata": {},
     "output_type": "execute_result"
    }
   ],
   "source": [
    "a2"
   ]
  },
  {
   "cell_type": "code",
   "execution_count": 8,
   "id": "45816983-2856-4b2a-977d-2ad4910722ae",
   "metadata": {},
   "outputs": [],
   "source": [
    "a3={256:'swap',}"
   ]
  },
  {
   "cell_type": "code",
   "execution_count": 9,
   "id": "347f6dfc-decd-4ed4-a36a-baed9fe5e5c1",
   "metadata": {},
   "outputs": [
    {
     "data": {
      "text/plain": [
       "{256: 'swap'}"
      ]
     },
     "execution_count": 9,
     "metadata": {},
     "output_type": "execute_result"
    }
   ],
   "source": [
    "a3"
   ]
  },
  {
   "cell_type": "code",
   "execution_count": 10,
   "id": "19f2ec4a-06ba-4e7e-8ca1-f84bbcbe559e",
   "metadata": {},
   "outputs": [
    {
     "ename": "SyntaxError",
     "evalue": "invalid syntax (2144378995.py, line 1)",
     "output_type": "error",
     "traceback": [
      "\u001b[0;36m  Cell \u001b[0;32mIn[10], line 1\u001b[0;36m\u001b[0m\n\u001b[0;31m    a4={@:2548}\u001b[0m\n\u001b[0m        ^\u001b[0m\n\u001b[0;31mSyntaxError\u001b[0m\u001b[0;31m:\u001b[0m invalid syntax\n"
     ]
    }
   ],
   "source": [
    "a4={@:2548}"
   ]
  },
  {
   "cell_type": "code",
   "execution_count": 11,
   "id": "4296cdeb-f405-42d3-9996-1807d4a98e50",
   "metadata": {},
   "outputs": [],
   "source": [
    "a5={'@':'shubhangi'}"
   ]
  },
  {
   "cell_type": "code",
   "execution_count": 12,
   "id": "9d3259dd-dcb7-42f5-8d65-95dc7bd70aef",
   "metadata": {},
   "outputs": [
    {
     "data": {
      "text/plain": [
       "{'@': 'shubhangi'}"
      ]
     },
     "execution_count": 12,
     "metadata": {},
     "output_type": "execute_result"
    }
   ],
   "source": [
    "a5"
   ]
  },
  {
   "cell_type": "code",
   "execution_count": 13,
   "id": "7cc7a1a1-3c8b-4227-877b-98eb79605eca",
   "metadata": {},
   "outputs": [],
   "source": [
    "a6={True:25469}"
   ]
  },
  {
   "cell_type": "code",
   "execution_count": 14,
   "id": "e5e92afb-25ed-46f9-b491-74bef434cca0",
   "metadata": {},
   "outputs": [
    {
     "data": {
      "text/plain": [
       "{True: 25469}"
      ]
     },
     "execution_count": 14,
     "metadata": {},
     "output_type": "execute_result"
    }
   ],
   "source": [
    "a6"
   ]
  },
  {
   "cell_type": "code",
   "execution_count": 15,
   "id": "c0650a7b-14ac-49ce-82a8-c03ec6419044",
   "metadata": {},
   "outputs": [
    {
     "data": {
      "text/plain": [
       "'shubhangi'"
      ]
     },
     "execution_count": 15,
     "metadata": {},
     "output_type": "execute_result"
    }
   ],
   "source": [
    "a5['@']"
   ]
  },
  {
   "cell_type": "code",
   "execution_count": 16,
   "id": "8e992837-8eb0-47e7-8db4-b3a7b2c191ed",
   "metadata": {},
   "outputs": [
    {
     "data": {
      "text/plain": [
       "25469"
      ]
     },
     "execution_count": 16,
     "metadata": {},
     "output_type": "execute_result"
    }
   ],
   "source": [
    "a6[True]"
   ]
  },
  {
   "cell_type": "code",
   "execution_count": 17,
   "id": "8823c36d-1cf2-4dbe-8c24-a7ccd56f7813",
   "metadata": {},
   "outputs": [
    {
     "data": {
      "text/plain": [
       "25469"
      ]
     },
     "execution_count": 17,
     "metadata": {},
     "output_type": "execute_result"
    }
   ],
   "source": [
    "a6[1]"
   ]
  },
  {
   "cell_type": "code",
   "execution_count": 23,
   "id": "a2ac58d7-a375-45e8-a4eb-e13d3cd16da1",
   "metadata": {},
   "outputs": [],
   "source": [
    "b={\"name\":\"Swapnil\",\"email\":'44ftech.sk','mob':'856254812','name':\"Swap\"}"
   ]
  },
  {
   "cell_type": "code",
   "execution_count": 24,
   "id": "fc1cd307-80b8-43e2-92be-e79bc0ad4528",
   "metadata": {},
   "outputs": [
    {
     "data": {
      "text/plain": [
       "'Swap'"
      ]
     },
     "execution_count": 24,
     "metadata": {},
     "output_type": "execute_result"
    }
   ],
   "source": [
    "b['name']"
   ]
  },
  {
   "cell_type": "code",
   "execution_count": 25,
   "id": "28ceda66-5d5f-43c2-a23d-d9eca5db8443",
   "metadata": {},
   "outputs": [
    {
     "data": {
      "text/plain": [
       "'Swap'"
      ]
     },
     "execution_count": 25,
     "metadata": {},
     "output_type": "execute_result"
    }
   ],
   "source": [
    "b[\"name\"]"
   ]
  },
  {
   "cell_type": "code",
   "execution_count": 29,
   "id": "e41aacfb-369b-4a96-bd4e-37c102714658",
   "metadata": {},
   "outputs": [],
   "source": [
    "b1={'company':\"pwskills\",\"course\":['web devp','data scince','java with dsa system design']}"
   ]
  },
  {
   "cell_type": "code",
   "execution_count": 30,
   "id": "7ce58b23-425f-40fe-8a5a-48c01c3029c5",
   "metadata": {},
   "outputs": [
    {
     "data": {
      "text/plain": [
       "{'company': 'pwskills',\n",
       " 'course': ['web devp', 'data scince', 'java with dsa system design']}"
      ]
     },
     "execution_count": 30,
     "metadata": {},
     "output_type": "execute_result"
    }
   ],
   "source": [
    "b1"
   ]
  },
  {
   "cell_type": "code",
   "execution_count": 31,
   "id": "e86baa4f-0fc6-4148-9d0e-d32f13e047d4",
   "metadata": {},
   "outputs": [
    {
     "data": {
      "text/plain": [
       "['web devp', 'data scince', 'java with dsa system design']"
      ]
     },
     "execution_count": 31,
     "metadata": {},
     "output_type": "execute_result"
    }
   ],
   "source": [
    "b1['course']"
   ]
  },
  {
   "cell_type": "code",
   "execution_count": 32,
   "id": "e11ec5cf-100e-44f6-8b64-cc17eea4fc04",
   "metadata": {},
   "outputs": [
    {
     "data": {
      "text/plain": [
       "'java with dsa system design'"
      ]
     },
     "execution_count": 32,
     "metadata": {},
     "output_type": "execute_result"
    }
   ],
   "source": [
    "b1['course'][2]"
   ]
  },
  {
   "cell_type": "code",
   "execution_count": 33,
   "id": "e2e59c31-6a9d-4109-9cae-8e1673b053f0",
   "metadata": {},
   "outputs": [],
   "source": [
    "b2={\"number\":[21,5,5,654,364,2854,26142],'assignment':(91,2,3,54,15),\"launch date\":{28,4,13}}"
   ]
  },
  {
   "cell_type": "code",
   "execution_count": 34,
   "id": "6a22cc01-f798-4462-8b0a-dcf1337810ac",
   "metadata": {},
   "outputs": [
    {
     "data": {
      "text/plain": [
       "{'number': [21, 5, 5, 654, 364, 2854, 26142],\n",
       " 'assignment': (91, 2, 3, 54, 15),\n",
       " 'launch date': {4, 13, 28}}"
      ]
     },
     "execution_count": 34,
     "metadata": {},
     "output_type": "execute_result"
    }
   ],
   "source": [
    "b2"
   ]
  },
  {
   "cell_type": "code",
   "execution_count": 38,
   "id": "0c0f6907-1409-44fa-96d8-1f1983071b8f",
   "metadata": {},
   "outputs": [
    {
     "data": {
      "text/plain": [
       "(91, 2, 3, 54, 15)"
      ]
     },
     "execution_count": 38,
     "metadata": {},
     "output_type": "execute_result"
    }
   ],
   "source": [
    "b2['assignment']"
   ]
  },
  {
   "cell_type": "code",
   "execution_count": 39,
   "id": "78e3138f-6e83-447e-bd3b-873a3e5af0b9",
   "metadata": {},
   "outputs": [
    {
     "data": {
      "text/plain": [
       "54"
      ]
     },
     "execution_count": 39,
     "metadata": {},
     "output_type": "execute_result"
    }
   ],
   "source": [
    "b2['assignment'][3]"
   ]
  },
  {
   "cell_type": "code",
   "execution_count": 40,
   "id": "f19e159d-0547-40e2-962b-bc652be194f7",
   "metadata": {},
   "outputs": [],
   "source": [
    "b2['mentor']=[\"swapnil\",'sudhanshu','Krish']"
   ]
  },
  {
   "cell_type": "code",
   "execution_count": 41,
   "id": "f10a2ea4-a4a4-42a9-ad22-78b64d4223ec",
   "metadata": {},
   "outputs": [
    {
     "data": {
      "text/plain": [
       "{'number': [21, 5, 5, 654, 364, 2854, 26142],\n",
       " 'assignment': (91, 2, 3, 54, 15),\n",
       " 'launch date': {4, 13, 28},\n",
       " 'mentor': ['swapnil', 'sudhanshu', 'Krish']}"
      ]
     },
     "execution_count": 41,
     "metadata": {},
     "output_type": "execute_result"
    }
   ],
   "source": [
    "b2"
   ]
  },
  {
   "cell_type": "code",
   "execution_count": 42,
   "id": "c1ca1eac-3876-4c80-b039-1fe1b0cbe195",
   "metadata": {},
   "outputs": [],
   "source": [
    "del b2['number']"
   ]
  },
  {
   "cell_type": "code",
   "execution_count": 43,
   "id": "f1061cab-1e54-4732-ba5f-2ff2b8e55b42",
   "metadata": {},
   "outputs": [
    {
     "data": {
      "text/plain": [
       "{'assignment': (91, 2, 3, 54, 15),\n",
       " 'launch date': {4, 13, 28},\n",
       " 'mentor': ['swapnil', 'sudhanshu', 'Krish']}"
      ]
     },
     "execution_count": 43,
     "metadata": {},
     "output_type": "execute_result"
    }
   ],
   "source": [
    "b2"
   ]
  },
  {
   "cell_type": "code",
   "execution_count": 44,
   "id": "b6f0301a-28d1-4ee1-94e0-578f88fd10f0",
   "metadata": {},
   "outputs": [
    {
     "data": {
      "text/plain": [
       "dict_keys(['assignment', 'launch date', 'mentor'])"
      ]
     },
     "execution_count": 44,
     "metadata": {},
     "output_type": "execute_result"
    }
   ],
   "source": [
    "b2.keys()"
   ]
  },
  {
   "cell_type": "code",
   "execution_count": 45,
   "id": "45b87fcf-1faf-4e42-beeb-3f93f3c81d00",
   "metadata": {},
   "outputs": [
    {
     "data": {
      "text/plain": [
       "['assignment', 'launch date', 'mentor']"
      ]
     },
     "execution_count": 45,
     "metadata": {},
     "output_type": "execute_result"
    }
   ],
   "source": [
    "list(b2.keys())"
   ]
  },
  {
   "cell_type": "code",
   "execution_count": 46,
   "id": "d3adf792-cbde-441e-af86-caba846bfe70",
   "metadata": {},
   "outputs": [
    {
     "data": {
      "text/plain": [
       "dict_values([(91, 2, 3, 54, 15), {4, 28, 13}, ['swapnil', 'sudhanshu', 'Krish']])"
      ]
     },
     "execution_count": 46,
     "metadata": {},
     "output_type": "execute_result"
    }
   ],
   "source": [
    "b2.values()"
   ]
  },
  {
   "cell_type": "code",
   "execution_count": 47,
   "id": "2cacfee7-b3bc-4eee-b14c-05c0c23cb318",
   "metadata": {},
   "outputs": [
    {
     "data": {
      "text/plain": [
       "{'assignment', 'launch date', 'mentor'}"
      ]
     },
     "execution_count": 47,
     "metadata": {},
     "output_type": "execute_result"
    }
   ],
   "source": [
    "set(b2.keys())"
   ]
  },
  {
   "cell_type": "code",
   "execution_count": 48,
   "id": "4f25701b-adcf-4bef-bdeb-725b4969557c",
   "metadata": {},
   "outputs": [
    {
     "data": {
      "text/plain": [
       "[('assignment', (91, 2, 3, 54, 15)),\n",
       " ('launch date', {4, 13, 28}),\n",
       " ('mentor', ['swapnil', 'sudhanshu', 'Krish'])]"
      ]
     },
     "execution_count": 48,
     "metadata": {},
     "output_type": "execute_result"
    }
   ],
   "source": [
    "list(b2.items())"
   ]
  },
  {
   "cell_type": "code",
   "execution_count": 49,
   "id": "cb3121c3-b296-49b0-a4bd-8257d68f43ce",
   "metadata": {},
   "outputs": [
    {
     "ename": "AttributeError",
     "evalue": "'dict' object has no attribute 'upper'",
     "output_type": "error",
     "traceback": [
      "\u001b[0;31m---------------------------------------------------------------------------\u001b[0m",
      "\u001b[0;31mAttributeError\u001b[0m                            Traceback (most recent call last)",
      "Cell \u001b[0;32mIn[49], line 1\u001b[0m\n\u001b[0;32m----> 1\u001b[0m \u001b[43mb2\u001b[49m\u001b[38;5;241;43m.\u001b[39;49m\u001b[43mupper\u001b[49m()\n",
      "\u001b[0;31mAttributeError\u001b[0m: 'dict' object has no attribute 'upper'"
     ]
    }
   ],
   "source": [
    "b2.pop()"
   ]
  },
  {
   "cell_type": "code",
   "execution_count": null,
   "id": "ee9306f6-5c1b-4db2-bedb-59c564b480bb",
   "metadata": {},
   "outputs": [],
   "source": []
  }
 ],
 "metadata": {
  "kernelspec": {
   "display_name": "Python 3 (ipykernel)",
   "language": "python",
   "name": "python3"
  },
  "language_info": {
   "codemirror_mode": {
    "name": "ipython",
    "version": 3
   },
   "file_extension": ".py",
   "mimetype": "text/x-python",
   "name": "python",
   "nbconvert_exporter": "python",
   "pygments_lexer": "ipython3",
   "version": "3.10.8"
  }
 },
 "nbformat": 4,
 "nbformat_minor": 5
}
